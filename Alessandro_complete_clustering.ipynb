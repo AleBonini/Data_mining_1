{
 "cells": [
  {
   "cell_type": "code",
   "execution_count": 1,
   "metadata": {},
   "outputs": [],
   "source": [
    "%matplotlib inline\n",
    "import math\n",
    "import numpy as np\n",
    "import pandas as pd\n",
    "import scipy.stats as stats\n",
    "import matplotlib.pyplot as plt\n",
    "import seaborn as sns\n",
    "from scipy.stats import mode\n",
    "from scipy.spatial.distance import pdist\n",
    "from scipy.cluster.hierarchy import linkage, dendrogram\n",
    "from sklearn.preprocessing import StandardScaler, MinMaxScaler\n",
    "from sklearn.cluster import KMeans\n",
    "from sklearn.metrics import silhouette_score\n",
    "\n",
    "\n",
    "from collections import defaultdict\n",
    "from scipy.stats.stats import pearsonr\n",
    "from sklearn.cluster import DBSCAN\n",
    "from scipy.spatial.distance import pdist, squareform\n",
    "from scipy.stats import mode\n",
    "from scipy.spatial.distance import pdist\n",
    "from scipy.cluster.hierarchy import linkage, dendrogram"
   ]
  },
  {
   "cell_type": "code",
   "execution_count": 2,
   "metadata": {},
   "outputs": [],
   "source": [
    "df = pd.read_csv('training.csv')"
   ]
  },
  {
   "cell_type": "code",
   "execution_count": 3,
   "metadata": {},
   "outputs": [],
   "source": [
    "df['MMRAcquisitionAuctionAveragePrice'].fillna(df['MMRAcquisitionAuctionAveragePrice'].median(), inplace = True)\n",
    "df['MMRAcquisitionAuctionCleanPrice'].fillna(df['MMRAcquisitionAuctionCleanPrice'].median(), inplace = True)\n",
    "df['MMRAcquisitionRetailAveragePrice'].fillna(df['MMRAcquisitionRetailAveragePrice'].median(), inplace = True)\n",
    "df['MMRAcquisitonRetailCleanPrice'].fillna(df['MMRAcquisitonRetailCleanPrice'].median(), inplace = True)\n",
    "df['MMRCurrentAuctionAveragePrice'].fillna(df['MMRCurrentAuctionAveragePrice'].median(), inplace = True)\n",
    "df['MMRCurrentAuctionCleanPrice'].fillna(df['MMRCurrentAuctionCleanPrice'].median(), inplace = True)\n",
    "df['MMRCurrentRetailAveragePrice'].fillna(df['MMRCurrentRetailAveragePrice'].median(), inplace = True)\n",
    "df['MMRCurrentRetailCleanPrice'].fillna(df['MMRCurrentRetailCleanPrice'].median(), inplace = True)"
   ]
  },
  {
   "cell_type": "code",
   "execution_count": 4,
   "metadata": {},
   "outputs": [],
   "source": [
    "df['MMR_factor'] = ( df['MMRAcquisitionAuctionAveragePrice'] + df['MMRAcquisitonRetailCleanPrice'] + df['MMRCurrentAuctionCleanPrice'] + df['MMRCurrentRetailAveragePrice']) / 4"
   ]
  },
  {
   "cell_type": "code",
   "execution_count": 5,
   "metadata": {},
   "outputs": [
    {
     "data": {
      "text/plain": [
       "RefId                                    0\n",
       "IsBadBuy                                 0\n",
       "PurchDate                                0\n",
       "Auction                                  0\n",
       "VehYear                                  0\n",
       "VehicleAge                               0\n",
       "Make                                     0\n",
       "Model                                    0\n",
       "Trim                                  1911\n",
       "SubModel                                 7\n",
       "Color                                    7\n",
       "Transmission                             8\n",
       "WheelTypeID                           2573\n",
       "WheelType                             2577\n",
       "VehOdo                                   0\n",
       "Nationality                              4\n",
       "Size                                     4\n",
       "TopThreeAmericanName                     4\n",
       "MMRAcquisitionAuctionAveragePrice        0\n",
       "MMRAcquisitionAuctionCleanPrice          0\n",
       "MMRAcquisitionRetailAveragePrice         0\n",
       "MMRAcquisitonRetailCleanPrice            0\n",
       "MMRCurrentAuctionAveragePrice            0\n",
       "MMRCurrentAuctionCleanPrice              0\n",
       "MMRCurrentRetailAveragePrice             0\n",
       "MMRCurrentRetailCleanPrice               0\n",
       "PRIMEUNIT                            55703\n",
       "AUCGUART                             55703\n",
       "BYRNO                                    0\n",
       "VNZIP1                                   0\n",
       "VNST                                     0\n",
       "VehBCost                                 0\n",
       "IsOnlineSale                             0\n",
       "WarrantyCost                             0\n",
       "MMR_factor                               0\n",
       "dtype: int64"
      ]
     },
     "execution_count": 5,
     "metadata": {},
     "output_type": "execute_result"
    }
   ],
   "source": [
    "df.isnull().sum() # Check if there are some numerical attributes with missing values"
   ]
  },
  {
   "cell_type": "code",
   "execution_count": 6,
   "metadata": {},
   "outputs": [],
   "source": [
    "df_new = df[['VehicleAge','VehOdo','MMR_factor','VehBCost','WarrantyCost']] #Create new dataframe the variables that we'll use in the clustering"
   ]
  },
  {
   "cell_type": "code",
   "execution_count": 7,
   "metadata": {},
   "outputs": [
    {
     "data": {
      "image/png": "[encoded data removed]",
      "text/plain": [
       "<Figure size 504x432 with 2 Axes>"
      ]
     },
     "metadata": {
      "needs_background": "light"
     },
     "output_type": "display_data"
    }
   ],
   "source": [
    "# check the correlation because we don't want clusters with two attributes highly correlated\n",
    "corr = df_new.corr()\n",
    "plt.subplots(figsize =(7, 6))\n",
    "hm = sns.heatmap(corr, \n",
    "            xticklabels=corr.columns.values,\n",
    "            yticklabels=corr.columns.values, annot=True)"
   ]
  },
  {
   "cell_type": "code",
   "execution_count": 8,
   "metadata": {},
   "outputs": [],
   "source": [
    "Q1 =  df_new.quantile(0.25)\n",
    "Q3 = df_new.quantile(0.75)\n",
    "IQR = Q3 - Q1"
   ]
  },
  {
   "cell_type": "code",
   "execution_count": 9,
   "metadata": {},
   "outputs": [],
   "source": [
    "df_in = df_new[(df_new > Q1-1.5*IQR ) & (df_new < Q3+1.5*IQR)]"
   ]
  },
  {
   "cell_type": "code",
   "execution_count": 10,
   "metadata": {},
   "outputs": [],
   "source": [
    "df_in['VehBCost'].fillna(df['VehBCost'].median(), inplace = True)\n",
    "df_in['WarrantyCost'].fillna(df['WarrantyCost'].median(), inplace = True)\n",
    "df_in['VehicleAge'].fillna(df['VehicleAge'].median(), inplace = True)\n",
    "df_in['MMR_factor'].fillna(df['MMR_factor'].median(), inplace = True)\n",
    "df_in['VehOdo'].fillna(df['VehOdo'].median(), inplace = True)"
   ]
  },
  {
   "cell_type": "code",
   "execution_count": 11,
   "metadata": {},
   "outputs": [
    {
     "data": {
      "text/plain": [
       "VehicleAge      0\n",
       "VehOdo          0\n",
       "MMR_factor      0\n",
       "VehBCost        0\n",
       "WarrantyCost    0\n",
       "dtype: int64"
      ]
     },
     "execution_count": 11,
     "metadata": {},
     "output_type": "execute_result"
    }
   ],
   "source": [
    "df_in.isnull().sum()"
   ]
  },
  {
   "cell_type": "code",
   "execution_count": 100,
   "metadata": {},
   "outputs": [],
   "source": [
    "df1 = noise[['VehBCost','VehicleAge','VehOdo']]"
   ]
  },
  {
   "cell_type": "code",
   "execution_count": 101,
   "metadata": {},
   "outputs": [],
   "source": [
    "X = MinMaxScaler().fit_transform(df1.values)"
   ]
  },
  {
   "cell_type": "code",
   "execution_count": 102,
   "metadata": {},
   "outputs": [
    {
     "data": {
      "text/plain": [
       "KMeans(algorithm='auto', copy_x=True, init='k-means++', max_iter=150,\n",
       "    n_clusters=7, n_init=7, n_jobs=None, precompute_distances='auto',\n",
       "    random_state=None, tol=0.0001, verbose=0)"
      ]
     },
     "execution_count": 102,
     "metadata": {},
     "output_type": "execute_result"
    }
   ],
   "source": [
    "kmeans = KMeans(n_clusters = 7, n_init = 7, max_iter = 150)\n",
    "kmeans.fit(X)"
   ]
  },
  {
   "cell_type": "code",
   "execution_count": 103,
   "metadata": {
    "scrolled": true
   },
   "outputs": [
    {
     "data": {
      "text/plain": [
       "(array([0, 1, 2, 3, 4, 5, 6]),\n",
       " array([10139, 10647,  9050, 10232,  5021,  7054,  5671], dtype=int64))"
      ]
     },
     "execution_count": 103,
     "metadata": {},
     "output_type": "execute_result"
    }
   ],
   "source": [
    "np.unique(kmeans.labels_, return_counts=True)"
   ]
  },
  {
   "cell_type": "code",
   "execution_count": 104,
   "metadata": {},
   "outputs": [
    {
     "data": {
      "text/plain": [
       "{0: 10139, 1: 10647, 2: 9050, 3: 10232, 4: 5021, 5: 7054, 6: 5671}"
      ]
     },
     "execution_count": 104,
     "metadata": {},
     "output_type": "execute_result"
    }
   ],
   "source": [
    "hist, bins = np.histogram(kmeans.labels_, \n",
    "                          bins=range(0, len(set(kmeans.labels_)) + 1))\n",
    "dict(zip(bins, hist))"
   ]
  },
  {
   "cell_type": "code",
   "execution_count": 106,
   "metadata": {},
   "outputs": [
    {
     "data": {
      "image/png": "[encoded data removed]",
      "text/plain": [
       "<Figure size 432x288 with 1 Axes>"
      ]
     },
     "metadata": {
      "needs_background": "light"
     },
     "output_type": "display_data"
    }
   ],
   "source": [
    "plt.scatter(noise['VehBCost'], noise['VehicleAge'], \n",
    "            c=kmeans.labels_, s=20)\n",
    "plt.tick_params(axis='both', which='major', labelsize=22)\n",
    "plt.show()"
   ]
  },
  {
   "cell_type": "code",
   "execution_count": 107,
   "metadata": {},
   "outputs": [],
   "source": [
    "centers = kmeans.cluster_centers_"
   ]
  },
  {
   "cell_type": "code",
   "execution_count": 108,
   "metadata": {},
   "outputs": [
    {
     "data": {
      "image/png": "[encoded data removed]",
      "text/plain": [
       "<Figure size 864x432 with 1 Axes>"
      ]
     },
     "metadata": {
      "needs_background": "light"
     },
     "output_type": "display_data"
    }
   ],
   "source": [
    "plt.figure(figsize=(12, 6))\n",
    "for i in range(0, len(centers)):\n",
    "    plt.plot(centers[i], marker='o', label='Cluster %s' % i)\n",
    "plt.tick_params(axis='both', which='major', labelsize=22)\n",
    "plt.xticks(range(0, len(df1.columns)), df1.columns, fontsize=14)\n",
    "plt.legend(fontsize=15)\n",
    "plt.show()"
   ]
  },
  {
   "cell_type": "code",
   "execution_count": 109,
   "metadata": {},
   "outputs": [
    {
     "name": "stdout",
     "output_type": "stream",
     "text": [
      "SSE 1241.8752460276976\n",
      "Silhouette 0.2754017079754248\n"
     ]
    }
   ],
   "source": [
    "# MMR_factor-warrantycost: sse 145 sil 0.35\n",
    "# MMR_factor-vehicleage: sse 235 sil 0.485\n",
    "# vehbcost-vehicleage: sse 149 sil 0.58 BEST VALUES 2\n",
    "# vehbcost-vehicleage-warranty: sse 460 sil 0.33 BEST VALUES 3\n",
    "# vehbcost-vehicleage-vehodo: sse 637 sil 0.32\n",
    "#\n",
    "print('SSE %s' % kmeans.inertia_)  #sse 93 sil 0.35 with warranty and vehbcost with outliers: sse 799 sli 0.33\n",
    "print('Silhouette %s' % silhouette_score(X, kmeans.labels_,sample_size = 5000)) #sse 345 sil 0,26 adding vehodo"
   ]
  },
  {
   "cell_type": "code",
   "execution_count": 27,
   "metadata": {},
   "outputs": [],
   "source": [
    "sse_list = list()\n",
    "max_k = 20\n",
    "for k in range(2, max_k + 1):\n",
    "    kmeans = KMeans(n_clusters=k, n_init=10, max_iter=100)\n",
    "    kmeans.fit(X)\n",
    "    \n",
    "    sse = kmeans.inertia_\n",
    "    sse_list.append(sse)"
   ]
  },
  {
   "cell_type": "code",
   "execution_count": 28,
   "metadata": {},
   "outputs": [
    {
     "data": {
      "image/png": "[encoded data removed]",
      "text/plain": [
       "<Figure size 432x288 with 1 Axes>"
      ]
     },
     "metadata": {
      "needs_background": "light"
     },
     "output_type": "display_data"
    }
   ],
   "source": [
    "plt.plot(range(2, len(sse_list) + 2), sse_list)\n",
    "plt.ylabel('SSE', fontsize=22)\n",
    "plt.xlabel('K', fontsize=22)\n",
    "plt.tick_params(axis='both', which='major', labelsize=22)\n",
    "plt.show()"
   ]
  },
  {
   "cell_type": "code",
   "execution_count": 29,
   "metadata": {},
   "outputs": [],
   "source": [
    "#DBSCAN"
   ]
  },
  {
   "cell_type": "code",
   "execution_count": 21,
   "metadata": {},
   "outputs": [
    {
     "data": {
      "text/html": [
       "<div>\n",
       "<style scoped>\n",
       "    .dataframe tbody tr th:only-of-type {\n",
       "        vertical-align: middle;\n",
       "    }\n",
       "\n",
       "    .dataframe tbody tr th {\n",
       "        vertical-align: top;\n",
       "    }\n",
       "\n",
       "    .dataframe thead th {\n",
       "        text-align: right;\n",
       "    }\n",
       "</style>\n",
       "<table border=\"1\" class=\"dataframe\">\n",
       "  <thead>\n",
       "    <tr style=\"text-align: right;\">\n",
       "      <th></th>\n",
       "      <th>VehicleAge</th>\n",
       "      <th>VehOdo</th>\n",
       "      <th>MMR_factor</th>\n",
       "      <th>VehBCost</th>\n",
       "      <th>WarrantyCost</th>\n",
       "    </tr>\n",
       "  </thead>\n",
       "  <tbody>\n",
       "    <tr>\n",
       "      <th>0</th>\n",
       "      <td>2</td>\n",
       "      <td>61184</td>\n",
       "      <td>8685.25</td>\n",
       "      <td>6100.0</td>\n",
       "      <td>533</td>\n",
       "    </tr>\n",
       "    <tr>\n",
       "      <th>1</th>\n",
       "      <td>3</td>\n",
       "      <td>92383</td>\n",
       "      <td>6459.25</td>\n",
       "      <td>4000.0</td>\n",
       "      <td>1630</td>\n",
       "    </tr>\n",
       "    <tr>\n",
       "      <th>2</th>\n",
       "      <td>2</td>\n",
       "      <td>45965</td>\n",
       "      <td>9635.50</td>\n",
       "      <td>7500.0</td>\n",
       "      <td>693</td>\n",
       "    </tr>\n",
       "    <tr>\n",
       "      <th>3</th>\n",
       "      <td>4</td>\n",
       "      <td>80169</td>\n",
       "      <td>6217.00</td>\n",
       "      <td>4725.0</td>\n",
       "      <td>1633</td>\n",
       "    </tr>\n",
       "    <tr>\n",
       "      <th>4</th>\n",
       "      <td>4</td>\n",
       "      <td>77372</td>\n",
       "      <td>6551.25</td>\n",
       "      <td>5670.0</td>\n",
       "      <td>1623</td>\n",
       "    </tr>\n",
       "  </tbody>\n",
       "</table>\n",
       "</div>"
      ],
      "text/plain": [
       "   VehicleAge  VehOdo  MMR_factor  VehBCost  WarrantyCost\n",
       "0           2   61184     8685.25    6100.0           533\n",
       "1           3   92383     6459.25    4000.0          1630\n",
       "2           2   45965     9635.50    7500.0           693\n",
       "3           4   80169     6217.00    4725.0          1633\n",
       "4           4   77372     6551.25    5670.0          1623"
      ]
     },
     "execution_count": 21,
     "metadata": {},
     "output_type": "execute_result"
    }
   ],
   "source": [
    "df_new.head()"
   ]
  },
  {
   "cell_type": "code",
   "execution_count": 62,
   "metadata": {},
   "outputs": [],
   "source": [
    "df2 = df_new[['VehOdo','WarrantyCost','VehBCost']]"
   ]
  },
  {
   "cell_type": "code",
   "execution_count": 63,
   "metadata": {},
   "outputs": [],
   "source": [
    "Y = StandardScaler().fit_transform(df2.values)"
   ]
  },
  {
   "cell_type": "code",
   "execution_count": 93,
   "metadata": {},
   "outputs": [
    {
     "data": {
      "text/plain": [
       "DBSCAN(algorithm='auto', eps=0.9, leaf_size=30, metric='euclidean',\n",
       "    metric_params=None, min_samples=150, n_jobs=None, p=None)"
      ]
     },
     "execution_count": 93,
     "metadata": {},
     "output_type": "execute_result"
    }
   ],
   "source": [
    "dbscan = DBSCAN(eps = 0.9, min_samples = 150)\n",
    "dbscan.fit(Y)"
   ]
  },
  {
   "cell_type": "code",
   "execution_count": 94,
   "metadata": {},
   "outputs": [
    {
     "data": {
      "text/plain": [
       "(array([-1,  0,  1], dtype=int64), array([  361, 57814,   211], dtype=int64))"
      ]
     },
     "execution_count": 94,
     "metadata": {},
     "output_type": "execute_result"
    }
   ],
   "source": [
    "np.unique(dbscan.labels_,return_counts = True)"
   ]
  },
  {
   "cell_type": "code",
   "execution_count": 95,
   "metadata": {},
   "outputs": [
    {
     "data": {
      "image/png": "[encoded data removed]",
      "text/plain": [
       "<Figure size 432x288 with 1 Axes>"
      ]
     },
     "metadata": {
      "needs_background": "light"
     },
     "output_type": "display_data"
    }
   ],
   "source": [
    "plt.scatter(df2['WarrantyCost'], df2['VehBCost'], c=dbscan.labels_, s=20)\n",
    "plt.tick_params(axis='both', which='major', labelsize=15)\n",
    "plt.show()"
   ]
  },
  {
   "cell_type": "code",
   "execution_count": 96,
   "metadata": {},
   "outputs": [
    {
     "name": "stdout",
     "output_type": "stream",
     "text": [
      "Silhouette 0.6139682113749121\n"
     ]
    }
   ],
   "source": [
    "print('Silhouette %s' % silhouette_score(Y, dbscan.labels_,sample_size = 10000))\n",
    "#Vehbcost-vehodo: 0.30 eps:0.3 sample: 10000 sample: 50 ---> 0.49\n",
    "#vehodo-warranty: 0.44 eps:0.3 sample: 10000\n",
    "#vehodo-warranty: 0.61 eps: 0.3 sapmle: 100\n",
    "#vehodo-warranty: 0.64 eps: 0.3 sample: 50 ---- eps:0.5 sse 0.63\n",
    "#vehodo-mmr: 0.37 eps:0.3 sample:50\n",
    "#vehodo-warranty-vehbcost: 0.41 eps: 0.3 sample 50\n",
    "#vehodo-warranty-mmr_factor: 0.18 eps: 0.3 sample 50\n",
    "#vehodo-warranty-vehbcost: 0.52 eps: 0.7 sample 50\n",
    "#vehodo-warranty-vehbcost: 0.59 eps: 0.8 sample 50\n",
    "#vehodo-warranty-vehbcost: 0.59 eps: 0.9 sample 50\n",
    "#vehodo-warranty-vehbcost: 0.64 eps: 0.9 sample 150  BEST VALUE\n",
    "#vehodo-warranty-vehbcost: 0.63 eps: 0.8 sample 140\n",
    "#vehodo-warranty-vehbcost: 0.63 eps: 0.8 sample 160\n",
    "#vehodo-warranty-vehbcost: 0.62 eps: 0.8 sample 150 "
   ]
  },
  {
   "cell_type": "code",
   "execution_count": 36,
   "metadata": {},
   "outputs": [],
   "source": [
    "from scipy.spatial.distance import pdist, squareform"
   ]
  },
  {
   "cell_type": "code",
   "execution_count": null,
   "metadata": {},
   "outputs": [],
   "source": [
    "K = df2.sample(n=10000)"
   ]
  },
  {
   "cell_type": "code",
   "execution_count": 40,
   "metadata": {},
   "outputs": [
    {
     "data": {
      "text/html": [
       "<div>\n",
       "<style scoped>\n",
       "    .dataframe tbody tr th:only-of-type {\n",
       "        vertical-align: middle;\n",
       "    }\n",
       "\n",
       "    .dataframe tbody tr th {\n",
       "        vertical-align: top;\n",
       "    }\n",
       "\n",
       "    .dataframe thead th {\n",
       "        text-align: right;\n",
       "    }\n",
       "</style>\n",
       "<table border=\"1\" class=\"dataframe\">\n",
       "  <thead>\n",
       "    <tr style=\"text-align: right;\">\n",
       "      <th></th>\n",
       "      <th>VehOdo</th>\n",
       "      <th>VehBCost</th>\n",
       "      <th>WarrantyCost</th>\n",
       "    </tr>\n",
       "  </thead>\n",
       "  <tbody>\n",
       "    <tr>\n",
       "      <th>count</th>\n",
       "      <td>58386.000000</td>\n",
       "      <td>58386.000000</td>\n",
       "      <td>58386.000000</td>\n",
       "    </tr>\n",
       "    <tr>\n",
       "      <th>mean</th>\n",
       "      <td>71680.574278</td>\n",
       "      <td>6715.014713</td>\n",
       "      <td>1242.049845</td>\n",
       "    </tr>\n",
       "    <tr>\n",
       "      <th>std</th>\n",
       "      <td>14256.382026</td>\n",
       "      <td>1720.064459</td>\n",
       "      <td>495.149042</td>\n",
       "    </tr>\n",
       "    <tr>\n",
       "      <th>min</th>\n",
       "      <td>30833.000000</td>\n",
       "      <td>1915.000000</td>\n",
       "      <td>462.000000</td>\n",
       "    </tr>\n",
       "    <tr>\n",
       "      <th>25%</th>\n",
       "      <td>62031.250000</td>\n",
       "      <td>5430.000000</td>\n",
       "      <td>837.000000</td>\n",
       "    </tr>\n",
       "    <tr>\n",
       "      <th>50%</th>\n",
       "      <td>73357.000000</td>\n",
       "      <td>6700.000000</td>\n",
       "      <td>1155.000000</td>\n",
       "    </tr>\n",
       "    <tr>\n",
       "      <th>75%</th>\n",
       "      <td>82425.000000</td>\n",
       "      <td>7895.000000</td>\n",
       "      <td>1543.000000</td>\n",
       "    </tr>\n",
       "    <tr>\n",
       "      <th>max</th>\n",
       "      <td>112029.000000</td>\n",
       "      <td>11600.000000</td>\n",
       "      <td>2799.000000</td>\n",
       "    </tr>\n",
       "  </tbody>\n",
       "</table>\n",
       "</div>"
      ],
      "text/plain": [
       "              VehOdo      VehBCost  WarrantyCost\n",
       "count   58386.000000  58386.000000  58386.000000\n",
       "mean    71680.574278   6715.014713   1242.049845\n",
       "std     14256.382026   1720.064459    495.149042\n",
       "min     30833.000000   1915.000000    462.000000\n",
       "25%     62031.250000   5430.000000    837.000000\n",
       "50%     73357.000000   6700.000000   1155.000000\n",
       "75%     82425.000000   7895.000000   1543.000000\n",
       "max    112029.000000  11600.000000   2799.000000"
      ]
     },
     "execution_count": 40,
     "metadata": {},
     "output_type": "execute_result"
    }
   ],
   "source": [
    "df2.describe()"
   ]
  },
  {
   "cell_type": "code",
   "execution_count": 41,
   "metadata": {},
   "outputs": [
    {
     "data": {
      "text/html": [
       "<div>\n",
       "<style scoped>\n",
       "    .dataframe tbody tr th:only-of-type {\n",
       "        vertical-align: middle;\n",
       "    }\n",
       "\n",
       "    .dataframe tbody tr th {\n",
       "        vertical-align: top;\n",
       "    }\n",
       "\n",
       "    .dataframe thead th {\n",
       "        text-align: right;\n",
       "    }\n",
       "</style>\n",
       "<table border=\"1\" class=\"dataframe\">\n",
       "  <thead>\n",
       "    <tr style=\"text-align: right;\">\n",
       "      <th></th>\n",
       "      <th>VehOdo</th>\n",
       "      <th>VehBCost</th>\n",
       "      <th>WarrantyCost</th>\n",
       "    </tr>\n",
       "  </thead>\n",
       "  <tbody>\n",
       "    <tr>\n",
       "      <th>count</th>\n",
       "      <td>10000.000000</td>\n",
       "      <td>10000.000000</td>\n",
       "      <td>10000.000000</td>\n",
       "    </tr>\n",
       "    <tr>\n",
       "      <th>mean</th>\n",
       "      <td>71672.758244</td>\n",
       "      <td>6704.372788</td>\n",
       "      <td>1243.210182</td>\n",
       "    </tr>\n",
       "    <tr>\n",
       "      <th>std</th>\n",
       "      <td>14043.247913</td>\n",
       "      <td>1710.604667</td>\n",
       "      <td>491.983478</td>\n",
       "    </tr>\n",
       "    <tr>\n",
       "      <th>min</th>\n",
       "      <td>30906.000000</td>\n",
       "      <td>2085.000000</td>\n",
       "      <td>462.000000</td>\n",
       "    </tr>\n",
       "    <tr>\n",
       "      <th>25%</th>\n",
       "      <td>62013.250000</td>\n",
       "      <td>5425.000000</td>\n",
       "      <td>837.000000</td>\n",
       "    </tr>\n",
       "    <tr>\n",
       "      <th>50%</th>\n",
       "      <td>73343.500000</td>\n",
       "      <td>6700.000000</td>\n",
       "      <td>1169.000000</td>\n",
       "    </tr>\n",
       "    <tr>\n",
       "      <th>75%</th>\n",
       "      <td>82214.500000</td>\n",
       "      <td>7890.000000</td>\n",
       "      <td>1545.000000</td>\n",
       "    </tr>\n",
       "    <tr>\n",
       "      <th>max</th>\n",
       "      <td>109408.000000</td>\n",
       "      <td>11585.000000</td>\n",
       "      <td>2795.000000</td>\n",
       "    </tr>\n",
       "  </tbody>\n",
       "</table>\n",
       "</div>"
      ],
      "text/plain": [
       "              VehOdo      VehBCost  WarrantyCost\n",
       "count   10000.000000  10000.000000  10000.000000\n",
       "mean    71672.758244   6704.372788   1243.210182\n",
       "std     14043.247913   1710.604667    491.983478\n",
       "min     30906.000000   2085.000000    462.000000\n",
       "25%     62013.250000   5425.000000    837.000000\n",
       "50%     73343.500000   6700.000000   1169.000000\n",
       "75%     82214.500000   7890.000000   1545.000000\n",
       "max    109408.000000  11585.000000   2795.000000"
      ]
     },
     "execution_count": 41,
     "metadata": {},
     "output_type": "execute_result"
    }
   ],
   "source": [
    "K.describe()"
   ]
  },
  {
   "cell_type": "code",
   "execution_count": 55,
   "metadata": {},
   "outputs": [],
   "source": [
    "S = StandardScaler().fit_transform(df2.values)"
   ]
  },
  {
   "cell_type": "code",
   "execution_count": 58,
   "metadata": {},
   "outputs": [
    {
     "name": "stdout",
     "output_type": "stream",
     "text": [
      "[25545.14893282 19878.75524272  3488.44506908 ... 14683.00163454\n",
      "  4616.66080625 10129.00972455]\n",
      "\n",
      "[[    0.         25545.14893282 19878.75524272 ...  8619.6786483\n",
      "  22511.7276325  12609.58893065]\n",
      " [25545.14893282     0.         45400.64988522 ... 17367.79266343\n",
      "   4091.13908343 12967.1133642 ]\n",
      " [19878.75524272 45400.64988522     0.         ... 28193.2894498\n",
      "  42303.11753287 32437.45028513]\n",
      " ...\n",
      " [ 8619.6786483  17367.79266343 28193.2894498  ...     0.\n",
      "  14683.00163454  4616.66080625]\n",
      " [22511.7276325   4091.13908343 42303.11753287 ... 14683.00163454\n",
      "      0.         10129.00972455]\n",
      " [12609.58893065 12967.1133642  32437.45028513 ...  4616.66080625\n",
      "  10129.00972455     0.        ]]\n"
     ]
    }
   ],
   "source": [
    "dist = pdist(K, 'euclidean') \n",
    "print (dist)\n",
    "dist = squareform(dist) \n",
    "print()\n",
    "print(dist)"
   ]
  },
  {
   "cell_type": "code",
   "execution_count": 43,
   "metadata": {},
   "outputs": [],
   "source": [
    "k = 20\n",
    "kth_distances = list()\n",
    "for d in dist:\n",
    "    index_kth_distance = np.argsort(d)[k]\n",
    "    kth_distances.append(d[index_kth_distance])"
   ]
  },
  {
   "cell_type": "code",
   "execution_count": 44,
   "metadata": {},
   "outputs": [
    {
     "data": {
      "image/png": "[encoded data removed]",
      "text/plain": [
       "<Figure size 432x288 with 1 Axes>"
      ]
     },
     "metadata": {
      "needs_background": "light"
     },
     "output_type": "display_data"
    }
   ],
   "source": [
    "plt.plot(range(0, len(kth_distances)), sorted(kth_distances))\n",
    "plt.ylabel('dist from %sth neighbor' % k, fontsize=18)\n",
    "plt.xlabel('sorted distances', fontsize=18)\n",
    "plt.tick_params(axis='both', which='major', labelsize=22)\n",
    "plt.show()"
   ]
  },
  {
   "cell_type": "code",
   "execution_count": 46,
   "metadata": {},
   "outputs": [],
   "source": [
    "#HIERARCHICAL"
   ]
  },
  {
   "cell_type": "code",
   "execution_count": 60,
   "metadata": {},
   "outputs": [
    {
     "data": {
      "image/png": "[encoded data removed]",
      "text/plain": [
       "<Figure size 432x288 with 1 Axes>"
      ]
     },
     "metadata": {
      "needs_background": "light"
     },
     "output_type": "display_data"
    }
   ],
   "source": [
    "data_dist = pdist(K, metric='euclidean')\n",
    "data_link = linkage(data_dist, method='complete', metric='euclidean')\n",
    "res = dendrogram(data_link, color_threshold=1.0, truncate_mode='lastp')"
   ]
  },
  {
   "cell_type": "code",
   "execution_count": 47,
   "metadata": {},
   "outputs": [
    {
     "data": {
      "image/png": "[encoded data removed]",
      "text/plain": [
       "<Figure size 432x288 with 1 Axes>"
      ]
     },
     "metadata": {
      "needs_background": "light"
     },
     "output_type": "display_data"
    }
   ],
   "source": [
    "data_dist = pdist(K, metric='euclidean')\n",
    "data_link = linkage(data_dist, method='single', metric='euclidean')\n",
    "res = dendrogram(data_link, color_threshold=0.2, truncate_mode='lastp')"
   ]
  },
  {
   "cell_type": "code",
   "execution_count": 48,
   "metadata": {},
   "outputs": [
    {
     "data": {
      "image/png": "[encoded data removed]",
      "text/plain": [
       "<Figure size 432x288 with 1 Axes>"
      ]
     },
     "metadata": {
      "needs_background": "light"
     },
     "output_type": "display_data"
    }
   ],
   "source": [
    "data_dist = pdist(K, metric='euclidean')\n",
    "data_link = linkage(data_dist, method='average', metric='euclidean')\n",
    "res = dendrogram(data_link, color_threshold=0.4, truncate_mode='lastp')"
   ]
  },
  {
   "cell_type": "code",
   "execution_count": 49,
   "metadata": {},
   "outputs": [
    {
     "data": {
      "image/png": "[encoded data removed]",
      "text/plain": [
       "<Figure size 432x288 with 1 Axes>"
      ]
     },
     "metadata": {
      "needs_background": "light"
     },
     "output_type": "display_data"
    }
   ],
   "source": [
    "res = dendrogram(data_link, color_threshold=1.0)"
   ]
  },
  {
   "cell_type": "code",
   "execution_count": null,
   "metadata": {},
   "outputs": [],
   "source": [
    "# EXPERIMENT"
   ]
  },
  {
   "cell_type": "code",
   "execution_count": 97,
   "metadata": {},
   "outputs": [
    {
     "name": "stderr",
     "output_type": "stream",
     "text": [
      "C:\\Users\\bonin\\Anaconda3\\lib\\site-packages\\ipykernel_launcher.py:1: SettingWithCopyWarning: \n",
      "A value is trying to be set on a copy of a slice from a DataFrame.\n",
      "Try using .loc[row_indexer,col_indexer] = value instead\n",
      "\n",
      "See the caveats in the documentation: http://pandas.pydata.org/pandas-docs/stable/indexing.html#indexing-view-versus-copy\n",
      "  \"\"\"Entry point for launching an IPython kernel.\n"
     ]
    }
   ],
   "source": [
    "df_new['labels'] = dbscan.labels_"
   ]
  },
  {
   "cell_type": "code",
   "execution_count": 98,
   "metadata": {},
   "outputs": [],
   "source": [
    "noise = df_new[df_new['labels'] == 0]"
   ]
  },
  {
   "cell_type": "code",
   "execution_count": 111,
   "metadata": {},
   "outputs": [
    {
     "name": "stdout",
     "output_type": "stream",
     "text": [
      "<class 'pandas.core.frame.DataFrame'>\n",
      "Int64Index: 57040 entries, 0 to 58385\n",
      "Data columns (total 6 columns):\n",
      "VehicleAge      57040 non-null int64\n",
      "VehOdo          57040 non-null int64\n",
      "MMR_factor      57040 non-null float64\n",
      "VehBCost        57040 non-null float64\n",
      "WarrantyCost    57040 non-null int64\n",
      "labels          57040 non-null int64\n",
      "dtypes: float64(2), int64(4)\n",
      "memory usage: 3.0 MB\n"
     ]
    }
   ],
   "source": [
    "noise.info()"
   ]
  },
  {
   "cell_type": "code",
   "execution_count": 112,
   "metadata": {},
   "outputs": [
    {
     "data": {
      "text/html": [
       "<div>\n",
       "<style scoped>\n",
       "    .dataframe tbody tr th:only-of-type {\n",
       "        vertical-align: middle;\n",
       "    }\n",
       "\n",
       "    .dataframe tbody tr th {\n",
       "        vertical-align: top;\n",
       "    }\n",
       "\n",
       "    .dataframe thead th {\n",
       "        text-align: right;\n",
       "    }\n",
       "</style>\n",
       "<table border=\"1\" class=\"dataframe\">\n",
       "  <thead>\n",
       "    <tr style=\"text-align: right;\">\n",
       "      <th></th>\n",
       "      <th>VehicleAge</th>\n",
       "      <th>VehOdo</th>\n",
       "      <th>MMR_factor</th>\n",
       "      <th>VehBCost</th>\n",
       "      <th>WarrantyCost</th>\n",
       "      <th>labels</th>\n",
       "    </tr>\n",
       "  </thead>\n",
       "  <tbody>\n",
       "    <tr>\n",
       "      <th>0</th>\n",
       "      <td>2</td>\n",
       "      <td>61184</td>\n",
       "      <td>8685.25</td>\n",
       "      <td>6100.0</td>\n",
       "      <td>533</td>\n",
       "      <td>0</td>\n",
       "    </tr>\n",
       "    <tr>\n",
       "      <th>1</th>\n",
       "      <td>3</td>\n",
       "      <td>92383</td>\n",
       "      <td>6459.25</td>\n",
       "      <td>4000.0</td>\n",
       "      <td>1630</td>\n",
       "      <td>0</td>\n",
       "    </tr>\n",
       "    <tr>\n",
       "      <th>2</th>\n",
       "      <td>2</td>\n",
       "      <td>45965</td>\n",
       "      <td>9635.50</td>\n",
       "      <td>7500.0</td>\n",
       "      <td>693</td>\n",
       "      <td>0</td>\n",
       "    </tr>\n",
       "    <tr>\n",
       "      <th>3</th>\n",
       "      <td>4</td>\n",
       "      <td>80169</td>\n",
       "      <td>6217.00</td>\n",
       "      <td>4725.0</td>\n",
       "      <td>1633</td>\n",
       "      <td>0</td>\n",
       "    </tr>\n",
       "    <tr>\n",
       "      <th>4</th>\n",
       "      <td>4</td>\n",
       "      <td>77372</td>\n",
       "      <td>6551.25</td>\n",
       "      <td>5670.0</td>\n",
       "      <td>1623</td>\n",
       "      <td>0</td>\n",
       "    </tr>\n",
       "  </tbody>\n",
       "</table>\n",
       "</div>"
      ],
      "text/plain": [
       "   VehicleAge  VehOdo  MMR_factor  VehBCost  WarrantyCost  labels\n",
       "0           2   61184     8685.25    6100.0           533       0\n",
       "1           3   92383     6459.25    4000.0          1630       0\n",
       "2           2   45965     9635.50    7500.0           693       0\n",
       "3           4   80169     6217.00    4725.0          1633       0\n",
       "4           4   77372     6551.25    5670.0          1623       0"
      ]
     },
     "execution_count": 112,
     "metadata": {},
     "output_type": "execute_result"
    }
   ],
   "source": [
    "noise.head()"
   ]
  },
  {
   "cell_type": "code",
   "execution_count": 113,
   "metadata": {},
   "outputs": [],
   "source": [
    "A = StandardScaler().fit_transform(noise.values)"
   ]
  },
  {
   "cell_type": "code",
   "execution_count": null,
   "metadata": {},
   "outputs": [],
   "source": [
    "dbscan = DBSCAN(eps = 0.8, min_samples = 100)\n",
    "dbscan.fit(A)"
   ]
  },
  {
   "cell_type": "code",
   "execution_count": 126,
   "metadata": {},
   "outputs": [
    {
     "data": {
      "text/plain": [
       "(array([-1,  0], dtype=int64), array([ 1019, 56021], dtype=int64))"
      ]
     },
     "execution_count": 126,
     "metadata": {},
     "output_type": "execute_result"
    }
   ],
   "source": [
    "np.unique(dbscan.labels_,return_counts = True)"
   ]
  },
  {
   "cell_type": "code",
   "execution_count": 127,
   "metadata": {},
   "outputs": [
    {
     "data": {
      "image/png": "[encoded data removed]",
      "text/plain": [
       "<Figure size 432x288 with 1 Axes>"
      ]
     },
     "metadata": {
      "needs_background": "light"
     },
     "output_type": "display_data"
    }
   ],
   "source": [
    "plt.scatter(noise['MMR_factor'], noise['WarrantyCost'], c=dbscan.labels_, s=20)\n",
    "plt.tick_params(axis='both', which='major', labelsize=15)\n",
    "plt.show()"
   ]
  },
  {
   "cell_type": "code",
   "execution_count": 130,
   "metadata": {},
   "outputs": [
    {
     "name": "stdout",
     "output_type": "stream",
     "text": [
      "Silhouette 0.29718369605392325\n"
     ]
    }
   ],
   "source": [
    "print('Silhouette %s' % silhouette_score(A, dbscan.labels_,sample_size = 5000))"
   ]
  },
  {
   "cell_type": "code",
   "execution_count": 131,
   "metadata": {},
   "outputs": [
    {
     "data": {
      "text/plain": [
       "KMeans(algorithm='auto', copy_x=True, init='k-means++', max_iter=150,\n",
       "    n_clusters=6, n_init=7, n_jobs=None, precompute_distances='auto',\n",
       "    random_state=None, tol=0.0001, verbose=0)"
      ]
     },
     "execution_count": 131,
     "metadata": {},
     "output_type": "execute_result"
    }
   ],
   "source": [
    "kmeans = KMeans(n_clusters = 6, n_init = 7, max_iter = 150)\n",
    "kmeans.fit(A)"
   ]
  },
  {
   "cell_type": "code",
   "execution_count": 132,
   "metadata": {},
   "outputs": [
    {
     "data": {
      "text/plain": [
       "(array([0, 1, 2, 3, 4, 5]),\n",
       " array([11809,  9414,  9643,  7759, 10006,  8409], dtype=int64))"
      ]
     },
     "execution_count": 132,
     "metadata": {},
     "output_type": "execute_result"
    }
   ],
   "source": [
    "np.unique(kmeans.labels_, return_counts=True)"
   ]
  },
  {
   "cell_type": "code",
   "execution_count": 135,
   "metadata": {},
   "outputs": [
    {
     "data": {
      "text/plain": [
       "{0: 11809, 1: 9414, 2: 9643, 3: 7759, 4: 10006, 5: 8409}"
      ]
     },
     "execution_count": 135,
     "metadata": {},
     "output_type": "execute_result"
    }
   ],
   "source": [
    "hist, bins = np.histogram(kmeans.labels_, \n",
    "                          bins=range(0, len(set(kmeans.labels_)) + 1))\n",
    "dict(zip(bins, hist))"
   ]
  },
  {
   "cell_type": "code",
   "execution_count": 136,
   "metadata": {},
   "outputs": [
    {
     "data": {
      "image/png": "[encoded data removed]",
      "text/plain": [
       "<Figure size 432x288 with 1 Axes>"
      ]
     },
     "metadata": {
      "needs_background": "light"
     },
     "output_type": "display_data"
    }
   ],
   "source": [
    "plt.scatter(noise['MMR_factor'], noise['VehOdo'], \n",
    "            c=kmeans.labels_, s=20)\n",
    "plt.tick_params(axis='both', which='major', labelsize=22)\n",
    "plt.show()"
   ]
  },
  {
   "cell_type": "code",
   "execution_count": 146,
   "metadata": {},
   "outputs": [
    {
     "name": "stdout",
     "output_type": "stream",
     "text": [
      "SSE 111634.0508693229\n",
      "Silhouette 0.2014989762867617\n"
     ]
    }
   ],
   "source": [
    "print('SSE %s' % kmeans.inertia_)  #sse 866 silhouette: 0.25 #sse 386 silhouette\n",
    "print('Silhouette %s' % silhouette_score(A, kmeans.labels_,sample_size = 5000))"
   ]
  },
  {
   "cell_type": "code",
   "execution_count": 142,
   "metadata": {},
   "outputs": [],
   "source": [
    "A = MinMaxScaler().fit_transform(noise.values)"
   ]
  },
  {
   "cell_type": "code",
   "execution_count": 50,
   "metadata": {},
   "outputs": [
    {
     "data": {
      "text/html": [
       "<div>\n",
       "<style scoped>\n",
       "    .dataframe tbody tr th:only-of-type {\n",
       "        vertical-align: middle;\n",
       "    }\n",
       "\n",
       "    .dataframe tbody tr th {\n",
       "        vertical-align: top;\n",
       "    }\n",
       "\n",
       "    .dataframe thead th {\n",
       "        text-align: right;\n",
       "    }\n",
       "</style>\n",
       "<table border=\"1\" class=\"dataframe\">\n",
       "  <thead>\n",
       "    <tr style=\"text-align: right;\">\n",
       "      <th></th>\n",
       "      <th>VehicleAge</th>\n",
       "      <th>VehOdo</th>\n",
       "      <th>MMR_factor</th>\n",
       "      <th>VehBCost</th>\n",
       "      <th>WarrantyCost</th>\n",
       "      <th>labels</th>\n",
       "    </tr>\n",
       "  </thead>\n",
       "  <tbody>\n",
       "    <tr>\n",
       "      <th>0</th>\n",
       "      <td>2</td>\n",
       "      <td>61184</td>\n",
       "      <td>8685.25</td>\n",
       "      <td>6100.0</td>\n",
       "      <td>533</td>\n",
       "      <td>0</td>\n",
       "    </tr>\n",
       "    <tr>\n",
       "      <th>1</th>\n",
       "      <td>3</td>\n",
       "      <td>92383</td>\n",
       "      <td>6459.25</td>\n",
       "      <td>4000.0</td>\n",
       "      <td>1630</td>\n",
       "      <td>0</td>\n",
       "    </tr>\n",
       "    <tr>\n",
       "      <th>2</th>\n",
       "      <td>2</td>\n",
       "      <td>45965</td>\n",
       "      <td>9635.50</td>\n",
       "      <td>7500.0</td>\n",
       "      <td>693</td>\n",
       "      <td>0</td>\n",
       "    </tr>\n",
       "    <tr>\n",
       "      <th>3</th>\n",
       "      <td>4</td>\n",
       "      <td>80169</td>\n",
       "      <td>6217.00</td>\n",
       "      <td>4725.0</td>\n",
       "      <td>1633</td>\n",
       "      <td>0</td>\n",
       "    </tr>\n",
       "    <tr>\n",
       "      <th>4</th>\n",
       "      <td>4</td>\n",
       "      <td>77372</td>\n",
       "      <td>6551.25</td>\n",
       "      <td>5670.0</td>\n",
       "      <td>1623</td>\n",
       "      <td>0</td>\n",
       "    </tr>\n",
       "    <tr>\n",
       "      <th>5</th>\n",
       "      <td>2</td>\n",
       "      <td>24541</td>\n",
       "      <td>5175.50</td>\n",
       "      <td>5430.0</td>\n",
       "      <td>462</td>\n",
       "      <td>0</td>\n",
       "    </tr>\n",
       "    <tr>\n",
       "      <th>6</th>\n",
       "      <td>5</td>\n",
       "      <td>81478</td>\n",
       "      <td>8808.75</td>\n",
       "      <td>7675.0</td>\n",
       "      <td>723</td>\n",
       "      <td>0</td>\n",
       "    </tr>\n",
       "    <tr>\n",
       "      <th>7</th>\n",
       "      <td>1</td>\n",
       "      <td>56717</td>\n",
       "      <td>9929.00</td>\n",
       "      <td>7810.0</td>\n",
       "      <td>920</td>\n",
       "      <td>0</td>\n",
       "    </tr>\n",
       "    <tr>\n",
       "      <th>8</th>\n",
       "      <td>4</td>\n",
       "      <td>34616</td>\n",
       "      <td>6912.50</td>\n",
       "      <td>5870.0</td>\n",
       "      <td>462</td>\n",
       "      <td>0</td>\n",
       "    </tr>\n",
       "    <tr>\n",
       "      <th>9</th>\n",
       "      <td>3</td>\n",
       "      <td>57337</td>\n",
       "      <td>4815.50</td>\n",
       "      <td>4825.0</td>\n",
       "      <td>505</td>\n",
       "      <td>0</td>\n",
       "    </tr>\n",
       "    <tr>\n",
       "      <th>10</th>\n",
       "      <td>5</td>\n",
       "      <td>85093</td>\n",
       "      <td>5312.75</td>\n",
       "      <td>5125.0</td>\n",
       "      <td>1503</td>\n",
       "      <td>0</td>\n",
       "    </tr>\n",
       "    <tr>\n",
       "      <th>11</th>\n",
       "      <td>3</td>\n",
       "      <td>43883</td>\n",
       "      <td>10571.25</td>\n",
       "      <td>7300.0</td>\n",
       "      <td>764</td>\n",
       "      <td>0</td>\n",
       "    </tr>\n",
       "    <tr>\n",
       "      <th>12</th>\n",
       "      <td>5</td>\n",
       "      <td>74251</td>\n",
       "      <td>11329.75</td>\n",
       "      <td>10135.0</td>\n",
       "      <td>1623</td>\n",
       "      <td>0</td>\n",
       "    </tr>\n",
       "    <tr>\n",
       "      <th>13</th>\n",
       "      <td>5</td>\n",
       "      <td>99950</td>\n",
       "      <td>4697.50</td>\n",
       "      <td>4185.0</td>\n",
       "      <td>2351</td>\n",
       "      <td>0</td>\n",
       "    </tr>\n",
       "    <tr>\n",
       "      <th>14</th>\n",
       "      <td>2</td>\n",
       "      <td>42442</td>\n",
       "      <td>7365.50</td>\n",
       "      <td>6305.0</td>\n",
       "      <td>975</td>\n",
       "      <td>0</td>\n",
       "    </tr>\n",
       "    <tr>\n",
       "      <th>15</th>\n",
       "      <td>3</td>\n",
       "      <td>68178</td>\n",
       "      <td>10500.25</td>\n",
       "      <td>8000.0</td>\n",
       "      <td>1703</td>\n",
       "      <td>0</td>\n",
       "    </tr>\n",
       "    <tr>\n",
       "      <th>16</th>\n",
       "      <td>4</td>\n",
       "      <td>74603</td>\n",
       "      <td>9124.00</td>\n",
       "      <td>7425.0</td>\n",
       "      <td>1272</td>\n",
       "      <td>0</td>\n",
       "    </tr>\n",
       "    <tr>\n",
       "      <th>17</th>\n",
       "      <td>2</td>\n",
       "      <td>43300</td>\n",
       "      <td>10400.00</td>\n",
       "      <td>7440.0</td>\n",
       "      <td>764</td>\n",
       "      <td>0</td>\n",
       "    </tr>\n",
       "    <tr>\n",
       "      <th>18</th>\n",
       "      <td>3</td>\n",
       "      <td>51783</td>\n",
       "      <td>8778.25</td>\n",
       "      <td>5690.0</td>\n",
       "      <td>1583</td>\n",
       "      <td>0</td>\n",
       "    </tr>\n",
       "    <tr>\n",
       "      <th>19</th>\n",
       "      <td>7</td>\n",
       "      <td>68613</td>\n",
       "      <td>2919.50</td>\n",
       "      <td>3700.0</td>\n",
       "      <td>2198</td>\n",
       "      <td>0</td>\n",
       "    </tr>\n",
       "    <tr>\n",
       "      <th>20</th>\n",
       "      <td>4</td>\n",
       "      <td>64427</td>\n",
       "      <td>6569.75</td>\n",
       "      <td>4600.0</td>\n",
       "      <td>1215</td>\n",
       "      <td>0</td>\n",
       "    </tr>\n",
       "    <tr>\n",
       "      <th>21</th>\n",
       "      <td>7</td>\n",
       "      <td>79150</td>\n",
       "      <td>7646.50</td>\n",
       "      <td>7200.0</td>\n",
       "      <td>1689</td>\n",
       "      <td>0</td>\n",
       "    </tr>\n",
       "    <tr>\n",
       "      <th>22</th>\n",
       "      <td>5</td>\n",
       "      <td>79927</td>\n",
       "      <td>6837.00</td>\n",
       "      <td>7495.0</td>\n",
       "      <td>803</td>\n",
       "      <td>0</td>\n",
       "    </tr>\n",
       "    <tr>\n",
       "      <th>23</th>\n",
       "      <td>4</td>\n",
       "      <td>87106</td>\n",
       "      <td>5680.75</td>\n",
       "      <td>4900.0</td>\n",
       "      <td>1633</td>\n",
       "      <td>0</td>\n",
       "    </tr>\n",
       "    <tr>\n",
       "      <th>24</th>\n",
       "      <td>6</td>\n",
       "      <td>75360</td>\n",
       "      <td>8589.00</td>\n",
       "      <td>9170.0</td>\n",
       "      <td>1272</td>\n",
       "      <td>0</td>\n",
       "    </tr>\n",
       "    <tr>\n",
       "      <th>25</th>\n",
       "      <td>3</td>\n",
       "      <td>64642</td>\n",
       "      <td>12235.00</td>\n",
       "      <td>8065.0</td>\n",
       "      <td>1118</td>\n",
       "      <td>0</td>\n",
       "    </tr>\n",
       "    <tr>\n",
       "      <th>26</th>\n",
       "      <td>4</td>\n",
       "      <td>46626</td>\n",
       "      <td>8646.00</td>\n",
       "      <td>7305.0</td>\n",
       "      <td>1328</td>\n",
       "      <td>0</td>\n",
       "    </tr>\n",
       "    <tr>\n",
       "      <th>27</th>\n",
       "      <td>3</td>\n",
       "      <td>78056</td>\n",
       "      <td>13015.25</td>\n",
       "      <td>10350.0</td>\n",
       "      <td>686</td>\n",
       "      <td>0</td>\n",
       "    </tr>\n",
       "    <tr>\n",
       "      <th>28</th>\n",
       "      <td>7</td>\n",
       "      <td>85857</td>\n",
       "      <td>9918.50</td>\n",
       "      <td>9325.0</td>\n",
       "      <td>1543</td>\n",
       "      <td>0</td>\n",
       "    </tr>\n",
       "    <tr>\n",
       "      <th>29</th>\n",
       "      <td>4</td>\n",
       "      <td>88897</td>\n",
       "      <td>5779.75</td>\n",
       "      <td>4340.0</td>\n",
       "      <td>1633</td>\n",
       "      <td>0</td>\n",
       "    </tr>\n",
       "    <tr>\n",
       "      <th>...</th>\n",
       "      <td>...</td>\n",
       "      <td>...</td>\n",
       "      <td>...</td>\n",
       "      <td>...</td>\n",
       "      <td>...</td>\n",
       "      <td>...</td>\n",
       "    </tr>\n",
       "    <tr>\n",
       "      <th>58356</th>\n",
       "      <td>4</td>\n",
       "      <td>71286</td>\n",
       "      <td>6004.25</td>\n",
       "      <td>6120.0</td>\n",
       "      <td>803</td>\n",
       "      <td>0</td>\n",
       "    </tr>\n",
       "    <tr>\n",
       "      <th>58357</th>\n",
       "      <td>2</td>\n",
       "      <td>74273</td>\n",
       "      <td>10049.75</td>\n",
       "      <td>7185.0</td>\n",
       "      <td>803</td>\n",
       "      <td>0</td>\n",
       "    </tr>\n",
       "    <tr>\n",
       "      <th>58358</th>\n",
       "      <td>5</td>\n",
       "      <td>47033</td>\n",
       "      <td>5737.25</td>\n",
       "      <td>5520.0</td>\n",
       "      <td>693</td>\n",
       "      <td>0</td>\n",
       "    </tr>\n",
       "    <tr>\n",
       "      <th>58359</th>\n",
       "      <td>6</td>\n",
       "      <td>71867</td>\n",
       "      <td>7396.75</td>\n",
       "      <td>6700.0</td>\n",
       "      <td>1272</td>\n",
       "      <td>0</td>\n",
       "    </tr>\n",
       "    <tr>\n",
       "      <th>58360</th>\n",
       "      <td>4</td>\n",
       "      <td>73992</td>\n",
       "      <td>6924.25</td>\n",
       "      <td>5700.0</td>\n",
       "      <td>1155</td>\n",
       "      <td>0</td>\n",
       "    </tr>\n",
       "    <tr>\n",
       "      <th>58361</th>\n",
       "      <td>5</td>\n",
       "      <td>88500</td>\n",
       "      <td>10484.75</td>\n",
       "      <td>8170.0</td>\n",
       "      <td>1633</td>\n",
       "      <td>0</td>\n",
       "    </tr>\n",
       "    <tr>\n",
       "      <th>58362</th>\n",
       "      <td>4</td>\n",
       "      <td>85185</td>\n",
       "      <td>4683.25</td>\n",
       "      <td>3860.0</td>\n",
       "      <td>1503</td>\n",
       "      <td>0</td>\n",
       "    </tr>\n",
       "    <tr>\n",
       "      <th>58363</th>\n",
       "      <td>7</td>\n",
       "      <td>63496</td>\n",
       "      <td>5763.75</td>\n",
       "      <td>5000.0</td>\n",
       "      <td>1906</td>\n",
       "      <td>0</td>\n",
       "    </tr>\n",
       "    <tr>\n",
       "      <th>58364</th>\n",
       "      <td>7</td>\n",
       "      <td>46671</td>\n",
       "      <td>3936.50</td>\n",
       "      <td>4550.0</td>\n",
       "      <td>993</td>\n",
       "      <td>0</td>\n",
       "    </tr>\n",
       "    <tr>\n",
       "      <th>58365</th>\n",
       "      <td>3</td>\n",
       "      <td>73314</td>\n",
       "      <td>9160.00</td>\n",
       "      <td>8315.0</td>\n",
       "      <td>803</td>\n",
       "      <td>0</td>\n",
       "    </tr>\n",
       "    <tr>\n",
       "      <th>58366</th>\n",
       "      <td>5</td>\n",
       "      <td>83049</td>\n",
       "      <td>7682.00</td>\n",
       "      <td>6190.0</td>\n",
       "      <td>2152</td>\n",
       "      <td>0</td>\n",
       "    </tr>\n",
       "    <tr>\n",
       "      <th>58367</th>\n",
       "      <td>7</td>\n",
       "      <td>64716</td>\n",
       "      <td>4059.25</td>\n",
       "      <td>4705.0</td>\n",
       "      <td>930</td>\n",
       "      <td>0</td>\n",
       "    </tr>\n",
       "    <tr>\n",
       "      <th>58368</th>\n",
       "      <td>5</td>\n",
       "      <td>70799</td>\n",
       "      <td>9803.00</td>\n",
       "      <td>9210.0</td>\n",
       "      <td>1155</td>\n",
       "      <td>0</td>\n",
       "    </tr>\n",
       "    <tr>\n",
       "      <th>58369</th>\n",
       "      <td>6</td>\n",
       "      <td>77079</td>\n",
       "      <td>8259.00</td>\n",
       "      <td>6970.0</td>\n",
       "      <td>920</td>\n",
       "      <td>0</td>\n",
       "    </tr>\n",
       "    <tr>\n",
       "      <th>58370</th>\n",
       "      <td>5</td>\n",
       "      <td>66815</td>\n",
       "      <td>6631.50</td>\n",
       "      <td>7345.0</td>\n",
       "      <td>728</td>\n",
       "      <td>0</td>\n",
       "    </tr>\n",
       "    <tr>\n",
       "      <th>58371</th>\n",
       "      <td>3</td>\n",
       "      <td>78881</td>\n",
       "      <td>7901.50</td>\n",
       "      <td>5600.0</td>\n",
       "      <td>1623</td>\n",
       "      <td>0</td>\n",
       "    </tr>\n",
       "    <tr>\n",
       "      <th>58372</th>\n",
       "      <td>3</td>\n",
       "      <td>70642</td>\n",
       "      <td>12185.75</td>\n",
       "      <td>8415.0</td>\n",
       "      <td>1974</td>\n",
       "      <td>0</td>\n",
       "    </tr>\n",
       "    <tr>\n",
       "      <th>58373</th>\n",
       "      <td>6</td>\n",
       "      <td>84235</td>\n",
       "      <td>8276.75</td>\n",
       "      <td>7300.0</td>\n",
       "      <td>594</td>\n",
       "      <td>0</td>\n",
       "    </tr>\n",
       "    <tr>\n",
       "      <th>58374</th>\n",
       "      <td>5</td>\n",
       "      <td>55544</td>\n",
       "      <td>4397.00</td>\n",
       "      <td>4800.0</td>\n",
       "      <td>1086</td>\n",
       "      <td>0</td>\n",
       "    </tr>\n",
       "    <tr>\n",
       "      <th>58375</th>\n",
       "      <td>5</td>\n",
       "      <td>90416</td>\n",
       "      <td>13768.50</td>\n",
       "      <td>9600.0</td>\n",
       "      <td>620</td>\n",
       "      <td>0</td>\n",
       "    </tr>\n",
       "    <tr>\n",
       "      <th>58376</th>\n",
       "      <td>2</td>\n",
       "      <td>77719</td>\n",
       "      <td>10938.75</td>\n",
       "      <td>8700.0</td>\n",
       "      <td>1389</td>\n",
       "      <td>0</td>\n",
       "    </tr>\n",
       "    <tr>\n",
       "      <th>58377</th>\n",
       "      <td>3</td>\n",
       "      <td>34977</td>\n",
       "      <td>5418.75</td>\n",
       "      <td>5400.0</td>\n",
       "      <td>462</td>\n",
       "      <td>0</td>\n",
       "    </tr>\n",
       "    <tr>\n",
       "      <th>58378</th>\n",
       "      <td>6</td>\n",
       "      <td>87794</td>\n",
       "      <td>11319.75</td>\n",
       "      <td>9335.0</td>\n",
       "      <td>1763</td>\n",
       "      <td>0</td>\n",
       "    </tr>\n",
       "    <tr>\n",
       "      <th>58379</th>\n",
       "      <td>5</td>\n",
       "      <td>67944</td>\n",
       "      <td>11713.25</td>\n",
       "      <td>10440.0</td>\n",
       "      <td>728</td>\n",
       "      <td>0</td>\n",
       "    </tr>\n",
       "    <tr>\n",
       "      <th>58380</th>\n",
       "      <td>4</td>\n",
       "      <td>71840</td>\n",
       "      <td>6569.75</td>\n",
       "      <td>4100.0</td>\n",
       "      <td>1389</td>\n",
       "      <td>0</td>\n",
       "    </tr>\n",
       "    <tr>\n",
       "      <th>58381</th>\n",
       "      <td>3</td>\n",
       "      <td>78226</td>\n",
       "      <td>10682.00</td>\n",
       "      <td>7205.0</td>\n",
       "      <td>1974</td>\n",
       "      <td>0</td>\n",
       "    </tr>\n",
       "    <tr>\n",
       "      <th>58382</th>\n",
       "      <td>4</td>\n",
       "      <td>71169</td>\n",
       "      <td>6897.75</td>\n",
       "      <td>4690.0</td>\n",
       "      <td>1155</td>\n",
       "      <td>0</td>\n",
       "    </tr>\n",
       "    <tr>\n",
       "      <th>58383</th>\n",
       "      <td>3</td>\n",
       "      <td>69795</td>\n",
       "      <td>9660.00</td>\n",
       "      <td>7000.0</td>\n",
       "      <td>1703</td>\n",
       "      <td>0</td>\n",
       "    </tr>\n",
       "    <tr>\n",
       "      <th>58384</th>\n",
       "      <td>5</td>\n",
       "      <td>85326</td>\n",
       "      <td>6304.75</td>\n",
       "      <td>5525.0</td>\n",
       "      <td>594</td>\n",
       "      <td>0</td>\n",
       "    </tr>\n",
       "    <tr>\n",
       "      <th>58385</th>\n",
       "      <td>8</td>\n",
       "      <td>73317</td>\n",
       "      <td>1933.50</td>\n",
       "      <td>3240.0</td>\n",
       "      <td>1455</td>\n",
       "      <td>0</td>\n",
       "    </tr>\n",
       "  </tbody>\n",
       "</table>\n",
       "<p>57302 rows × 6 columns</p>\n",
       "</div>"
      ],
      "text/plain": [
       "       VehicleAge  VehOdo  MMR_factor  VehBCost  WarrantyCost  labels\n",
       "0               2   61184     8685.25    6100.0           533       0\n",
       "1               3   92383     6459.25    4000.0          1630       0\n",
       "2               2   45965     9635.50    7500.0           693       0\n",
       "3               4   80169     6217.00    4725.0          1633       0\n",
       "4               4   77372     6551.25    5670.0          1623       0\n",
       "5               2   24541     5175.50    5430.0           462       0\n",
       "6               5   81478     8808.75    7675.0           723       0\n",
       "7               1   56717     9929.00    7810.0           920       0\n",
       "8               4   34616     6912.50    5870.0           462       0\n",
       "9               3   57337     4815.50    4825.0           505       0\n",
       "10              5   85093     5312.75    5125.0          1503       0\n",
       "11              3   43883    10571.25    7300.0           764       0\n",
       "12              5   74251    11329.75   10135.0          1623       0\n",
       "13              5   99950     4697.50    4185.0          2351       0\n",
       "14              2   42442     7365.50    6305.0           975       0\n",
       "15              3   68178    10500.25    8000.0          1703       0\n",
       "16              4   74603     9124.00    7425.0          1272       0\n",
       "17              2   43300    10400.00    7440.0           764       0\n",
       "18              3   51783     8778.25    5690.0          1583       0\n",
       "19              7   68613     2919.50    3700.0          2198       0\n",
       "20              4   64427     6569.75    4600.0          1215       0\n",
       "21              7   79150     7646.50    7200.0          1689       0\n",
       "22              5   79927     6837.00    7495.0           803       0\n",
       "23              4   87106     5680.75    4900.0          1633       0\n",
       "24              6   75360     8589.00    9170.0          1272       0\n",
       "25              3   64642    12235.00    8065.0          1118       0\n",
       "26              4   46626     8646.00    7305.0          1328       0\n",
       "27              3   78056    13015.25   10350.0           686       0\n",
       "28              7   85857     9918.50    9325.0          1543       0\n",
       "29              4   88897     5779.75    4340.0          1633       0\n",
       "...           ...     ...         ...       ...           ...     ...\n",
       "58356           4   71286     6004.25    6120.0           803       0\n",
       "58357           2   74273    10049.75    7185.0           803       0\n",
       "58358           5   47033     5737.25    5520.0           693       0\n",
       "58359           6   71867     7396.75    6700.0          1272       0\n",
       "58360           4   73992     6924.25    5700.0          1155       0\n",
       "58361           5   88500    10484.75    8170.0          1633       0\n",
       "58362           4   85185     4683.25    3860.0          1503       0\n",
       "58363           7   63496     5763.75    5000.0          1906       0\n",
       "58364           7   46671     3936.50    4550.0           993       0\n",
       "58365           3   73314     9160.00    8315.0           803       0\n",
       "58366           5   83049     7682.00    6190.0          2152       0\n",
       "58367           7   64716     4059.25    4705.0           930       0\n",
       "58368           5   70799     9803.00    9210.0          1155       0\n",
       "58369           6   77079     8259.00    6970.0           920       0\n",
       "58370           5   66815     6631.50    7345.0           728       0\n",
       "58371           3   78881     7901.50    5600.0          1623       0\n",
       "58372           3   70642    12185.75    8415.0          1974       0\n",
       "58373           6   84235     8276.75    7300.0           594       0\n",
       "58374           5   55544     4397.00    4800.0          1086       0\n",
       "58375           5   90416    13768.50    9600.0           620       0\n",
       "58376           2   77719    10938.75    8700.0          1389       0\n",
       "58377           3   34977     5418.75    5400.0           462       0\n",
       "58378           6   87794    11319.75    9335.0          1763       0\n",
       "58379           5   67944    11713.25   10440.0           728       0\n",
       "58380           4   71840     6569.75    4100.0          1389       0\n",
       "58381           3   78226    10682.00    7205.0          1974       0\n",
       "58382           4   71169     6897.75    4690.0          1155       0\n",
       "58383           3   69795     9660.00    7000.0          1703       0\n",
       "58384           5   85326     6304.75    5525.0           594       0\n",
       "58385           8   73317     1933.50    3240.0          1455       0\n",
       "\n",
       "[57302 rows x 6 columns]"
      ]
     },
     "execution_count": 50,
     "metadata": {},
     "output_type": "execute_result"
    }
   ],
   "source": [
    "noise"
   ]
  },
  {
   "cell_type": "code",
   "execution_count": 99,
   "metadata": {},
   "outputs": [
    {
     "data": {
      "text/html": [
       "<div>\n",
       "<style scoped>\n",
       "    .dataframe tbody tr th:only-of-type {\n",
       "        vertical-align: middle;\n",
       "    }\n",
       "\n",
       "    .dataframe tbody tr th {\n",
       "        vertical-align: top;\n",
       "    }\n",
       "\n",
       "    .dataframe thead th {\n",
       "        text-align: right;\n",
       "    }\n",
       "</style>\n",
       "<table border=\"1\" class=\"dataframe\">\n",
       "  <thead>\n",
       "    <tr style=\"text-align: right;\">\n",
       "      <th></th>\n",
       "      <th>VehicleAge</th>\n",
       "      <th>VehOdo</th>\n",
       "      <th>MMR_factor</th>\n",
       "      <th>VehBCost</th>\n",
       "      <th>WarrantyCost</th>\n",
       "      <th>labels</th>\n",
       "    </tr>\n",
       "  </thead>\n",
       "  <tbody>\n",
       "    <tr>\n",
       "      <th>0</th>\n",
       "      <td>2</td>\n",
       "      <td>61184</td>\n",
       "      <td>8685.25</td>\n",
       "      <td>6100.0</td>\n",
       "      <td>533</td>\n",
       "      <td>0</td>\n",
       "    </tr>\n",
       "    <tr>\n",
       "      <th>1</th>\n",
       "      <td>3</td>\n",
       "      <td>92383</td>\n",
       "      <td>6459.25</td>\n",
       "      <td>4000.0</td>\n",
       "      <td>1630</td>\n",
       "      <td>0</td>\n",
       "    </tr>\n",
       "    <tr>\n",
       "      <th>2</th>\n",
       "      <td>2</td>\n",
       "      <td>45965</td>\n",
       "      <td>9635.50</td>\n",
       "      <td>7500.0</td>\n",
       "      <td>693</td>\n",
       "      <td>0</td>\n",
       "    </tr>\n",
       "    <tr>\n",
       "      <th>3</th>\n",
       "      <td>4</td>\n",
       "      <td>80169</td>\n",
       "      <td>6217.00</td>\n",
       "      <td>4725.0</td>\n",
       "      <td>1633</td>\n",
       "      <td>0</td>\n",
       "    </tr>\n",
       "    <tr>\n",
       "      <th>4</th>\n",
       "      <td>4</td>\n",
       "      <td>77372</td>\n",
       "      <td>6551.25</td>\n",
       "      <td>5670.0</td>\n",
       "      <td>1623</td>\n",
       "      <td>0</td>\n",
       "    </tr>\n",
       "    <tr>\n",
       "      <th>5</th>\n",
       "      <td>2</td>\n",
       "      <td>24541</td>\n",
       "      <td>5175.50</td>\n",
       "      <td>5430.0</td>\n",
       "      <td>462</td>\n",
       "      <td>0</td>\n",
       "    </tr>\n",
       "    <tr>\n",
       "      <th>6</th>\n",
       "      <td>5</td>\n",
       "      <td>81478</td>\n",
       "      <td>8808.75</td>\n",
       "      <td>7675.0</td>\n",
       "      <td>723</td>\n",
       "      <td>0</td>\n",
       "    </tr>\n",
       "    <tr>\n",
       "      <th>7</th>\n",
       "      <td>1</td>\n",
       "      <td>56717</td>\n",
       "      <td>9929.00</td>\n",
       "      <td>7810.0</td>\n",
       "      <td>920</td>\n",
       "      <td>0</td>\n",
       "    </tr>\n",
       "    <tr>\n",
       "      <th>8</th>\n",
       "      <td>4</td>\n",
       "      <td>34616</td>\n",
       "      <td>6912.50</td>\n",
       "      <td>5870.0</td>\n",
       "      <td>462</td>\n",
       "      <td>0</td>\n",
       "    </tr>\n",
       "    <tr>\n",
       "      <th>9</th>\n",
       "      <td>3</td>\n",
       "      <td>57337</td>\n",
       "      <td>4815.50</td>\n",
       "      <td>4825.0</td>\n",
       "      <td>505</td>\n",
       "      <td>0</td>\n",
       "    </tr>\n",
       "    <tr>\n",
       "      <th>10</th>\n",
       "      <td>5</td>\n",
       "      <td>85093</td>\n",
       "      <td>5312.75</td>\n",
       "      <td>5125.0</td>\n",
       "      <td>1503</td>\n",
       "      <td>0</td>\n",
       "    </tr>\n",
       "    <tr>\n",
       "      <th>11</th>\n",
       "      <td>3</td>\n",
       "      <td>43883</td>\n",
       "      <td>10571.25</td>\n",
       "      <td>7300.0</td>\n",
       "      <td>764</td>\n",
       "      <td>0</td>\n",
       "    </tr>\n",
       "    <tr>\n",
       "      <th>12</th>\n",
       "      <td>5</td>\n",
       "      <td>74251</td>\n",
       "      <td>11329.75</td>\n",
       "      <td>10135.0</td>\n",
       "      <td>1623</td>\n",
       "      <td>0</td>\n",
       "    </tr>\n",
       "    <tr>\n",
       "      <th>13</th>\n",
       "      <td>5</td>\n",
       "      <td>99950</td>\n",
       "      <td>4697.50</td>\n",
       "      <td>4185.0</td>\n",
       "      <td>2351</td>\n",
       "      <td>0</td>\n",
       "    </tr>\n",
       "    <tr>\n",
       "      <th>14</th>\n",
       "      <td>2</td>\n",
       "      <td>42442</td>\n",
       "      <td>7365.50</td>\n",
       "      <td>6305.0</td>\n",
       "      <td>975</td>\n",
       "      <td>0</td>\n",
       "    </tr>\n",
       "    <tr>\n",
       "      <th>15</th>\n",
       "      <td>3</td>\n",
       "      <td>68178</td>\n",
       "      <td>10500.25</td>\n",
       "      <td>8000.0</td>\n",
       "      <td>1703</td>\n",
       "      <td>0</td>\n",
       "    </tr>\n",
       "    <tr>\n",
       "      <th>16</th>\n",
       "      <td>4</td>\n",
       "      <td>74603</td>\n",
       "      <td>9124.00</td>\n",
       "      <td>7425.0</td>\n",
       "      <td>1272</td>\n",
       "      <td>0</td>\n",
       "    </tr>\n",
       "    <tr>\n",
       "      <th>17</th>\n",
       "      <td>2</td>\n",
       "      <td>43300</td>\n",
       "      <td>10400.00</td>\n",
       "      <td>7440.0</td>\n",
       "      <td>764</td>\n",
       "      <td>0</td>\n",
       "    </tr>\n",
       "    <tr>\n",
       "      <th>18</th>\n",
       "      <td>3</td>\n",
       "      <td>51783</td>\n",
       "      <td>8778.25</td>\n",
       "      <td>5690.0</td>\n",
       "      <td>1583</td>\n",
       "      <td>0</td>\n",
       "    </tr>\n",
       "    <tr>\n",
       "      <th>19</th>\n",
       "      <td>7</td>\n",
       "      <td>68613</td>\n",
       "      <td>2919.50</td>\n",
       "      <td>3700.0</td>\n",
       "      <td>2198</td>\n",
       "      <td>0</td>\n",
       "    </tr>\n",
       "    <tr>\n",
       "      <th>20</th>\n",
       "      <td>4</td>\n",
       "      <td>64427</td>\n",
       "      <td>6569.75</td>\n",
       "      <td>4600.0</td>\n",
       "      <td>1215</td>\n",
       "      <td>0</td>\n",
       "    </tr>\n",
       "    <tr>\n",
       "      <th>21</th>\n",
       "      <td>7</td>\n",
       "      <td>79150</td>\n",
       "      <td>7646.50</td>\n",
       "      <td>7200.0</td>\n",
       "      <td>1689</td>\n",
       "      <td>0</td>\n",
       "    </tr>\n",
       "    <tr>\n",
       "      <th>22</th>\n",
       "      <td>5</td>\n",
       "      <td>79927</td>\n",
       "      <td>6837.00</td>\n",
       "      <td>7495.0</td>\n",
       "      <td>803</td>\n",
       "      <td>0</td>\n",
       "    </tr>\n",
       "    <tr>\n",
       "      <th>23</th>\n",
       "      <td>4</td>\n",
       "      <td>87106</td>\n",
       "      <td>5680.75</td>\n",
       "      <td>4900.0</td>\n",
       "      <td>1633</td>\n",
       "      <td>0</td>\n",
       "    </tr>\n",
       "    <tr>\n",
       "      <th>24</th>\n",
       "      <td>6</td>\n",
       "      <td>75360</td>\n",
       "      <td>8589.00</td>\n",
       "      <td>9170.0</td>\n",
       "      <td>1272</td>\n",
       "      <td>0</td>\n",
       "    </tr>\n",
       "    <tr>\n",
       "      <th>25</th>\n",
       "      <td>3</td>\n",
       "      <td>64642</td>\n",
       "      <td>12235.00</td>\n",
       "      <td>8065.0</td>\n",
       "      <td>1118</td>\n",
       "      <td>0</td>\n",
       "    </tr>\n",
       "    <tr>\n",
       "      <th>26</th>\n",
       "      <td>4</td>\n",
       "      <td>46626</td>\n",
       "      <td>8646.00</td>\n",
       "      <td>7305.0</td>\n",
       "      <td>1328</td>\n",
       "      <td>0</td>\n",
       "    </tr>\n",
       "    <tr>\n",
       "      <th>27</th>\n",
       "      <td>3</td>\n",
       "      <td>78056</td>\n",
       "      <td>13015.25</td>\n",
       "      <td>10350.0</td>\n",
       "      <td>686</td>\n",
       "      <td>0</td>\n",
       "    </tr>\n",
       "    <tr>\n",
       "      <th>28</th>\n",
       "      <td>7</td>\n",
       "      <td>85857</td>\n",
       "      <td>9918.50</td>\n",
       "      <td>9325.0</td>\n",
       "      <td>1543</td>\n",
       "      <td>0</td>\n",
       "    </tr>\n",
       "    <tr>\n",
       "      <th>29</th>\n",
       "      <td>4</td>\n",
       "      <td>88897</td>\n",
       "      <td>5779.75</td>\n",
       "      <td>4340.0</td>\n",
       "      <td>1633</td>\n",
       "      <td>0</td>\n",
       "    </tr>\n",
       "    <tr>\n",
       "      <th>...</th>\n",
       "      <td>...</td>\n",
       "      <td>...</td>\n",
       "      <td>...</td>\n",
       "      <td>...</td>\n",
       "      <td>...</td>\n",
       "      <td>...</td>\n",
       "    </tr>\n",
       "    <tr>\n",
       "      <th>58356</th>\n",
       "      <td>4</td>\n",
       "      <td>71286</td>\n",
       "      <td>6004.25</td>\n",
       "      <td>6120.0</td>\n",
       "      <td>803</td>\n",
       "      <td>0</td>\n",
       "    </tr>\n",
       "    <tr>\n",
       "      <th>58357</th>\n",
       "      <td>2</td>\n",
       "      <td>74273</td>\n",
       "      <td>10049.75</td>\n",
       "      <td>7185.0</td>\n",
       "      <td>803</td>\n",
       "      <td>0</td>\n",
       "    </tr>\n",
       "    <tr>\n",
       "      <th>58358</th>\n",
       "      <td>5</td>\n",
       "      <td>47033</td>\n",
       "      <td>5737.25</td>\n",
       "      <td>5520.0</td>\n",
       "      <td>693</td>\n",
       "      <td>0</td>\n",
       "    </tr>\n",
       "    <tr>\n",
       "      <th>58359</th>\n",
       "      <td>6</td>\n",
       "      <td>71867</td>\n",
       "      <td>7396.75</td>\n",
       "      <td>6700.0</td>\n",
       "      <td>1272</td>\n",
       "      <td>0</td>\n",
       "    </tr>\n",
       "    <tr>\n",
       "      <th>58360</th>\n",
       "      <td>4</td>\n",
       "      <td>73992</td>\n",
       "      <td>6924.25</td>\n",
       "      <td>5700.0</td>\n",
       "      <td>1155</td>\n",
       "      <td>0</td>\n",
       "    </tr>\n",
       "    <tr>\n",
       "      <th>58361</th>\n",
       "      <td>5</td>\n",
       "      <td>88500</td>\n",
       "      <td>10484.75</td>\n",
       "      <td>8170.0</td>\n",
       "      <td>1633</td>\n",
       "      <td>0</td>\n",
       "    </tr>\n",
       "    <tr>\n",
       "      <th>58362</th>\n",
       "      <td>4</td>\n",
       "      <td>85185</td>\n",
       "      <td>4683.25</td>\n",
       "      <td>3860.0</td>\n",
       "      <td>1503</td>\n",
       "      <td>0</td>\n",
       "    </tr>\n",
       "    <tr>\n",
       "      <th>58363</th>\n",
       "      <td>7</td>\n",
       "      <td>63496</td>\n",
       "      <td>5763.75</td>\n",
       "      <td>5000.0</td>\n",
       "      <td>1906</td>\n",
       "      <td>0</td>\n",
       "    </tr>\n",
       "    <tr>\n",
       "      <th>58364</th>\n",
       "      <td>7</td>\n",
       "      <td>46671</td>\n",
       "      <td>3936.50</td>\n",
       "      <td>4550.0</td>\n",
       "      <td>993</td>\n",
       "      <td>0</td>\n",
       "    </tr>\n",
       "    <tr>\n",
       "      <th>58365</th>\n",
       "      <td>3</td>\n",
       "      <td>73314</td>\n",
       "      <td>9160.00</td>\n",
       "      <td>8315.0</td>\n",
       "      <td>803</td>\n",
       "      <td>0</td>\n",
       "    </tr>\n",
       "    <tr>\n",
       "      <th>58366</th>\n",
       "      <td>5</td>\n",
       "      <td>83049</td>\n",
       "      <td>7682.00</td>\n",
       "      <td>6190.0</td>\n",
       "      <td>2152</td>\n",
       "      <td>0</td>\n",
       "    </tr>\n",
       "    <tr>\n",
       "      <th>58367</th>\n",
       "      <td>7</td>\n",
       "      <td>64716</td>\n",
       "      <td>4059.25</td>\n",
       "      <td>4705.0</td>\n",
       "      <td>930</td>\n",
       "      <td>0</td>\n",
       "    </tr>\n",
       "    <tr>\n",
       "      <th>58368</th>\n",
       "      <td>5</td>\n",
       "      <td>70799</td>\n",
       "      <td>9803.00</td>\n",
       "      <td>9210.0</td>\n",
       "      <td>1155</td>\n",
       "      <td>0</td>\n",
       "    </tr>\n",
       "    <tr>\n",
       "      <th>58369</th>\n",
       "      <td>6</td>\n",
       "      <td>77079</td>\n",
       "      <td>8259.00</td>\n",
       "      <td>6970.0</td>\n",
       "      <td>920</td>\n",
       "      <td>0</td>\n",
       "    </tr>\n",
       "    <tr>\n",
       "      <th>58370</th>\n",
       "      <td>5</td>\n",
       "      <td>66815</td>\n",
       "      <td>6631.50</td>\n",
       "      <td>7345.0</td>\n",
       "      <td>728</td>\n",
       "      <td>0</td>\n",
       "    </tr>\n",
       "    <tr>\n",
       "      <th>58371</th>\n",
       "      <td>3</td>\n",
       "      <td>78881</td>\n",
       "      <td>7901.50</td>\n",
       "      <td>5600.0</td>\n",
       "      <td>1623</td>\n",
       "      <td>0</td>\n",
       "    </tr>\n",
       "    <tr>\n",
       "      <th>58372</th>\n",
       "      <td>3</td>\n",
       "      <td>70642</td>\n",
       "      <td>12185.75</td>\n",
       "      <td>8415.0</td>\n",
       "      <td>1974</td>\n",
       "      <td>0</td>\n",
       "    </tr>\n",
       "    <tr>\n",
       "      <th>58373</th>\n",
       "      <td>6</td>\n",
       "      <td>84235</td>\n",
       "      <td>8276.75</td>\n",
       "      <td>7300.0</td>\n",
       "      <td>594</td>\n",
       "      <td>0</td>\n",
       "    </tr>\n",
       "    <tr>\n",
       "      <th>58374</th>\n",
       "      <td>5</td>\n",
       "      <td>55544</td>\n",
       "      <td>4397.00</td>\n",
       "      <td>4800.0</td>\n",
       "      <td>1086</td>\n",
       "      <td>0</td>\n",
       "    </tr>\n",
       "    <tr>\n",
       "      <th>58375</th>\n",
       "      <td>5</td>\n",
       "      <td>90416</td>\n",
       "      <td>13768.50</td>\n",
       "      <td>9600.0</td>\n",
       "      <td>620</td>\n",
       "      <td>0</td>\n",
       "    </tr>\n",
       "    <tr>\n",
       "      <th>58376</th>\n",
       "      <td>2</td>\n",
       "      <td>77719</td>\n",
       "      <td>10938.75</td>\n",
       "      <td>8700.0</td>\n",
       "      <td>1389</td>\n",
       "      <td>0</td>\n",
       "    </tr>\n",
       "    <tr>\n",
       "      <th>58377</th>\n",
       "      <td>3</td>\n",
       "      <td>34977</td>\n",
       "      <td>5418.75</td>\n",
       "      <td>5400.0</td>\n",
       "      <td>462</td>\n",
       "      <td>0</td>\n",
       "    </tr>\n",
       "    <tr>\n",
       "      <th>58378</th>\n",
       "      <td>6</td>\n",
       "      <td>87794</td>\n",
       "      <td>11319.75</td>\n",
       "      <td>9335.0</td>\n",
       "      <td>1763</td>\n",
       "      <td>0</td>\n",
       "    </tr>\n",
       "    <tr>\n",
       "      <th>58379</th>\n",
       "      <td>5</td>\n",
       "      <td>67944</td>\n",
       "      <td>11713.25</td>\n",
       "      <td>10440.0</td>\n",
       "      <td>728</td>\n",
       "      <td>0</td>\n",
       "    </tr>\n",
       "    <tr>\n",
       "      <th>58380</th>\n",
       "      <td>4</td>\n",
       "      <td>71840</td>\n",
       "      <td>6569.75</td>\n",
       "      <td>4100.0</td>\n",
       "      <td>1389</td>\n",
       "      <td>0</td>\n",
       "    </tr>\n",
       "    <tr>\n",
       "      <th>58381</th>\n",
       "      <td>3</td>\n",
       "      <td>78226</td>\n",
       "      <td>10682.00</td>\n",
       "      <td>7205.0</td>\n",
       "      <td>1974</td>\n",
       "      <td>0</td>\n",
       "    </tr>\n",
       "    <tr>\n",
       "      <th>58382</th>\n",
       "      <td>4</td>\n",
       "      <td>71169</td>\n",
       "      <td>6897.75</td>\n",
       "      <td>4690.0</td>\n",
       "      <td>1155</td>\n",
       "      <td>0</td>\n",
       "    </tr>\n",
       "    <tr>\n",
       "      <th>58383</th>\n",
       "      <td>3</td>\n",
       "      <td>69795</td>\n",
       "      <td>9660.00</td>\n",
       "      <td>7000.0</td>\n",
       "      <td>1703</td>\n",
       "      <td>0</td>\n",
       "    </tr>\n",
       "    <tr>\n",
       "      <th>58384</th>\n",
       "      <td>5</td>\n",
       "      <td>85326</td>\n",
       "      <td>6304.75</td>\n",
       "      <td>5525.0</td>\n",
       "      <td>594</td>\n",
       "      <td>0</td>\n",
       "    </tr>\n",
       "    <tr>\n",
       "      <th>58385</th>\n",
       "      <td>8</td>\n",
       "      <td>73317</td>\n",
       "      <td>1933.50</td>\n",
       "      <td>3240.0</td>\n",
       "      <td>1455</td>\n",
       "      <td>0</td>\n",
       "    </tr>\n",
       "  </tbody>\n",
       "</table>\n",
       "<p>57814 rows × 6 columns</p>\n",
       "</div>"
      ],
      "text/plain": [
       "       VehicleAge  VehOdo  MMR_factor  VehBCost  WarrantyCost  labels\n",
       "0               2   61184     8685.25    6100.0           533       0\n",
       "1               3   92383     6459.25    4000.0          1630       0\n",
       "2               2   45965     9635.50    7500.0           693       0\n",
       "3               4   80169     6217.00    4725.0          1633       0\n",
       "4               4   77372     6551.25    5670.0          1623       0\n",
       "5               2   24541     5175.50    5430.0           462       0\n",
       "6               5   81478     8808.75    7675.0           723       0\n",
       "7               1   56717     9929.00    7810.0           920       0\n",
       "8               4   34616     6912.50    5870.0           462       0\n",
       "9               3   57337     4815.50    4825.0           505       0\n",
       "10              5   85093     5312.75    5125.0          1503       0\n",
       "11              3   43883    10571.25    7300.0           764       0\n",
       "12              5   74251    11329.75   10135.0          1623       0\n",
       "13              5   99950     4697.50    4185.0          2351       0\n",
       "14              2   42442     7365.50    6305.0           975       0\n",
       "15              3   68178    10500.25    8000.0          1703       0\n",
       "16              4   74603     9124.00    7425.0          1272       0\n",
       "17              2   43300    10400.00    7440.0           764       0\n",
       "18              3   51783     8778.25    5690.0          1583       0\n",
       "19              7   68613     2919.50    3700.0          2198       0\n",
       "20              4   64427     6569.75    4600.0          1215       0\n",
       "21              7   79150     7646.50    7200.0          1689       0\n",
       "22              5   79927     6837.00    7495.0           803       0\n",
       "23              4   87106     5680.75    4900.0          1633       0\n",
       "24              6   75360     8589.00    9170.0          1272       0\n",
       "25              3   64642    12235.00    8065.0          1118       0\n",
       "26              4   46626     8646.00    7305.0          1328       0\n",
       "27              3   78056    13015.25   10350.0           686       0\n",
       "28              7   85857     9918.50    9325.0          1543       0\n",
       "29              4   88897     5779.75    4340.0          1633       0\n",
       "...           ...     ...         ...       ...           ...     ...\n",
       "58356           4   71286     6004.25    6120.0           803       0\n",
       "58357           2   74273    10049.75    7185.0           803       0\n",
       "58358           5   47033     5737.25    5520.0           693       0\n",
       "58359           6   71867     7396.75    6700.0          1272       0\n",
       "58360           4   73992     6924.25    5700.0          1155       0\n",
       "58361           5   88500    10484.75    8170.0          1633       0\n",
       "58362           4   85185     4683.25    3860.0          1503       0\n",
       "58363           7   63496     5763.75    5000.0          1906       0\n",
       "58364           7   46671     3936.50    4550.0           993       0\n",
       "58365           3   73314     9160.00    8315.0           803       0\n",
       "58366           5   83049     7682.00    6190.0          2152       0\n",
       "58367           7   64716     4059.25    4705.0           930       0\n",
       "58368           5   70799     9803.00    9210.0          1155       0\n",
       "58369           6   77079     8259.00    6970.0           920       0\n",
       "58370           5   66815     6631.50    7345.0           728       0\n",
       "58371           3   78881     7901.50    5600.0          1623       0\n",
       "58372           3   70642    12185.75    8415.0          1974       0\n",
       "58373           6   84235     8276.75    7300.0           594       0\n",
       "58374           5   55544     4397.00    4800.0          1086       0\n",
       "58375           5   90416    13768.50    9600.0           620       0\n",
       "58376           2   77719    10938.75    8700.0          1389       0\n",
       "58377           3   34977     5418.75    5400.0           462       0\n",
       "58378           6   87794    11319.75    9335.0          1763       0\n",
       "58379           5   67944    11713.25   10440.0           728       0\n",
       "58380           4   71840     6569.75    4100.0          1389       0\n",
       "58381           3   78226    10682.00    7205.0          1974       0\n",
       "58382           4   71169     6897.75    4690.0          1155       0\n",
       "58383           3   69795     9660.00    7000.0          1703       0\n",
       "58384           5   85326     6304.75    5525.0           594       0\n",
       "58385           8   73317     1933.50    3240.0          1455       0\n",
       "\n",
       "[57814 rows x 6 columns]"
      ]
     },
     "execution_count": 99,
     "metadata": {},
     "output_type": "execute_result"
    }
   ],
   "source": [
    "noise"
   ]
  },
  {
   "cell_type": "code",
   "execution_count": null,
   "metadata": {},
   "outputs": [],
   "source": []
  }
 ],
 "metadata": {
  "kernelspec": {
   "display_name": "Python 3",
   "language": "python",
   "name": "python3"
  },
  "language_info": {
   "codemirror_mode": {
    "name": "ipython",
    "version": 3
   },
   "file_extension": ".py",
   "mimetype": "text/x-python",
   "name": "python",
   "nbconvert_exporter": "python",
   "pygments_lexer": "ipython3",
   "version": "3.7.1"
  }
 },
 "nbformat": 4,
 "nbformat_minor": 2
}
