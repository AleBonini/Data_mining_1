{
 "cells": [
  {
   "cell_type": "code",
   "execution_count": 34,
   "metadata": {},
   "outputs": [],
   "source": [
    "%matplotlib inline\n",
    "\n",
    "import numpy as np\n",
    "import pandas as pd\n",
    "import matplotlib.pyplot as plt\n",
    "\n",
    "from sklearn.metrics import confusion_matrix\n",
    "from sklearn.metrics import accuracy_score, f1_score, classification_report\n",
    "from sklearn.metrics import roc_curve, auc, roc_auc_score\n",
    "from sklearn.tree import DecisionTreeClassifier\n",
    "from sklearn.model_selection import train_test_split"
   ]
  },
  {
   "cell_type": "code",
   "execution_count": 12,
   "metadata": {},
   "outputs": [
    {
     "data": {
      "text/html": [
       "<div>\n",
       "<style scoped>\n",
       "    .dataframe tbody tr th:only-of-type {\n",
       "        vertical-align: middle;\n",
       "    }\n",
       "\n",
       "    .dataframe tbody tr th {\n",
       "        vertical-align: top;\n",
       "    }\n",
       "\n",
       "    .dataframe thead th {\n",
       "        text-align: right;\n",
       "    }\n",
       "</style>\n",
       "<table border=\"1\" class=\"dataframe\">\n",
       "  <thead>\n",
       "    <tr style=\"text-align: right;\">\n",
       "      <th></th>\n",
       "      <th>VehicleAge</th>\n",
       "      <th>VehOdo</th>\n",
       "      <th>VNZIP1</th>\n",
       "      <th>WarrantyCost</th>\n",
       "      <th>Auction</th>\n",
       "      <th>Make</th>\n",
       "      <th>Size</th>\n",
       "      <th>IsOnlineSale</th>\n",
       "      <th>TopThreeAmericanName</th>\n",
       "      <th>VNST</th>\n",
       "      <th>Trim</th>\n",
       "      <th>Color</th>\n",
       "      <th>WheelType</th>\n",
       "      <th>Nationality</th>\n",
       "      <th>Transmission</th>\n",
       "      <th>IsBadBuy</th>\n",
       "      <th>MMR_factor_n</th>\n",
       "      <th>VehBCost_n</th>\n",
       "    </tr>\n",
       "  </thead>\n",
       "  <tbody>\n",
       "    <tr>\n",
       "      <th>0</th>\n",
       "      <td>2</td>\n",
       "      <td>61184</td>\n",
       "      <td>33619</td>\n",
       "      <td>533</td>\n",
       "      <td>ADESA</td>\n",
       "      <td>KIA</td>\n",
       "      <td>MEDIUM</td>\n",
       "      <td>0</td>\n",
       "      <td>OTHER</td>\n",
       "      <td>FL</td>\n",
       "      <td>EX</td>\n",
       "      <td>BLUE</td>\n",
       "      <td>Covers</td>\n",
       "      <td>OTHER ASIAN</td>\n",
       "      <td>AUTO</td>\n",
       "      <td>1</td>\n",
       "      <td>0.228606</td>\n",
       "      <td>0.167169</td>\n",
       "    </tr>\n",
       "    <tr>\n",
       "      <th>1</th>\n",
       "      <td>3</td>\n",
       "      <td>92383</td>\n",
       "      <td>32124</td>\n",
       "      <td>1630</td>\n",
       "      <td>MANHEIM</td>\n",
       "      <td>DODGE</td>\n",
       "      <td>MEDIUM</td>\n",
       "      <td>0</td>\n",
       "      <td>CHRYSLER</td>\n",
       "      <td>FL</td>\n",
       "      <td>SXT</td>\n",
       "      <td>SILVER</td>\n",
       "      <td>Covers</td>\n",
       "      <td>AMERICAN</td>\n",
       "      <td>AUTO</td>\n",
       "      <td>0</td>\n",
       "      <td>0.170015</td>\n",
       "      <td>0.109610</td>\n",
       "    </tr>\n",
       "    <tr>\n",
       "      <th>2</th>\n",
       "      <td>2</td>\n",
       "      <td>45965</td>\n",
       "      <td>74135</td>\n",
       "      <td>693</td>\n",
       "      <td>OTHER</td>\n",
       "      <td>DODGE</td>\n",
       "      <td>MEDIUM</td>\n",
       "      <td>0</td>\n",
       "      <td>CHRYSLER</td>\n",
       "      <td>OK</td>\n",
       "      <td>SE</td>\n",
       "      <td>BLACK</td>\n",
       "      <td>Covers</td>\n",
       "      <td>AMERICAN</td>\n",
       "      <td>AUTO</td>\n",
       "      <td>0</td>\n",
       "      <td>0.253618</td>\n",
       "      <td>0.205542</td>\n",
       "    </tr>\n",
       "    <tr>\n",
       "      <th>3</th>\n",
       "      <td>4</td>\n",
       "      <td>80169</td>\n",
       "      <td>85018</td>\n",
       "      <td>1633</td>\n",
       "      <td>OTHER</td>\n",
       "      <td>FORD</td>\n",
       "      <td>VAN</td>\n",
       "      <td>0</td>\n",
       "      <td>FORD</td>\n",
       "      <td>AZ</td>\n",
       "      <td>S</td>\n",
       "      <td>BROWN</td>\n",
       "      <td>Covers</td>\n",
       "      <td>AMERICAN</td>\n",
       "      <td>AUTO</td>\n",
       "      <td>0</td>\n",
       "      <td>0.163639</td>\n",
       "      <td>0.129481</td>\n",
       "    </tr>\n",
       "    <tr>\n",
       "      <th>4</th>\n",
       "      <td>4</td>\n",
       "      <td>77372</td>\n",
       "      <td>75236</td>\n",
       "      <td>1623</td>\n",
       "      <td>MANHEIM</td>\n",
       "      <td>CHRYSLER</td>\n",
       "      <td>VAN</td>\n",
       "      <td>0</td>\n",
       "      <td>CHRYSLER</td>\n",
       "      <td>TX</td>\n",
       "      <td>Bas</td>\n",
       "      <td>BLUE</td>\n",
       "      <td>Alloy</td>\n",
       "      <td>AMERICAN</td>\n",
       "      <td>AUTO</td>\n",
       "      <td>0</td>\n",
       "      <td>0.172436</td>\n",
       "      <td>0.155383</td>\n",
       "    </tr>\n",
       "  </tbody>\n",
       "</table>\n",
       "</div>"
      ],
      "text/plain": [
       "   VehicleAge  VehOdo  VNZIP1  WarrantyCost  Auction      Make    Size  \\\n",
       "0           2   61184   33619           533    ADESA       KIA  MEDIUM   \n",
       "1           3   92383   32124          1630  MANHEIM     DODGE  MEDIUM   \n",
       "2           2   45965   74135           693    OTHER     DODGE  MEDIUM   \n",
       "3           4   80169   85018          1633    OTHER      FORD     VAN   \n",
       "4           4   77372   75236          1623  MANHEIM  CHRYSLER     VAN   \n",
       "\n",
       "   IsOnlineSale TopThreeAmericanName VNST Trim   Color WheelType  Nationality  \\\n",
       "0             0                OTHER   FL   EX    BLUE    Covers  OTHER ASIAN   \n",
       "1             0             CHRYSLER   FL  SXT  SILVER    Covers     AMERICAN   \n",
       "2             0             CHRYSLER   OK   SE   BLACK    Covers     AMERICAN   \n",
       "3             0                 FORD   AZ    S   BROWN    Covers     AMERICAN   \n",
       "4             0             CHRYSLER   TX  Bas    BLUE     Alloy     AMERICAN   \n",
       "\n",
       "  Transmission  IsBadBuy  MMR_factor_n  VehBCost_n  \n",
       "0         AUTO         1      0.228606    0.167169  \n",
       "1         AUTO         0      0.170015    0.109610  \n",
       "2         AUTO         0      0.253618    0.205542  \n",
       "3         AUTO         0      0.163639    0.129481  \n",
       "4         AUTO         0      0.172436    0.155383  "
      ]
     },
     "execution_count": 12,
     "metadata": {},
     "output_type": "execute_result"
    }
   ],
   "source": [
    "df = pd.read_csv(\"training_cleaned.csv\", skipinitialspace=True, sep=',')\n",
    "df.head()"
   ]
  },
  {
   "cell_type": "code",
   "execution_count": 13,
   "metadata": {},
   "outputs": [
    {
     "name": "stdout",
     "output_type": "stream",
     "text": [
      "<class 'pandas.core.frame.DataFrame'>\n",
      "RangeIndex: 58386 entries, 0 to 58385\n",
      "Data columns (total 18 columns):\n",
      "VehicleAge              58386 non-null int64\n",
      "VehOdo                  58386 non-null int64\n",
      "VNZIP1                  58386 non-null int64\n",
      "WarrantyCost            58386 non-null int64\n",
      "Auction                 58386 non-null object\n",
      "Make                    58386 non-null object\n",
      "Size                    58386 non-null object\n",
      "IsOnlineSale            58386 non-null int64\n",
      "TopThreeAmericanName    58386 non-null object\n",
      "VNST                    58386 non-null object\n",
      "Trim                    58386 non-null object\n",
      "Color                   58386 non-null object\n",
      "WheelType               58386 non-null object\n",
      "Nationality             58386 non-null object\n",
      "Transmission            58386 non-null object\n",
      "IsBadBuy                58386 non-null int64\n",
      "MMR_factor_n            58386 non-null float64\n",
      "VehBCost_n              58386 non-null float64\n",
      "dtypes: float64(2), int64(6), object(10)\n",
      "memory usage: 8.0+ MB\n"
     ]
    }
   ],
   "source": [
    "df.info()"
   ]
  },
  {
   "cell_type": "code",
   "execution_count": 14,
   "metadata": {},
   "outputs": [
    {
     "data": {
      "text/plain": [
       "array([1, 0], dtype=int64)"
      ]
     },
     "execution_count": 14,
     "metadata": {},
     "output_type": "execute_result"
    }
   ],
   "source": [
    "df['IsBadBuy'].unique()"
   ]
  },
  {
   "cell_type": "markdown",
   "metadata": {},
   "source": [
    "#### Classification : "
   ]
  },
  {
   "cell_type": "code",
   "execution_count": 15,
   "metadata": {},
   "outputs": [],
   "source": [
    "#train and test for the cross validation before validating the model and test it with the real test.csv\n"
   ]
  },
  {
   "cell_type": "code",
   "execution_count": 18,
   "metadata": {},
   "outputs": [],
   "source": [
    "numerics = ['int16', 'int32', 'int64', 'float16', 'float32', 'float64']\n",
    "\n",
    "num_df = df.select_dtypes(include=numerics)"
   ]
  },
  {
   "cell_type": "code",
   "execution_count": 67,
   "metadata": {},
   "outputs": [],
   "source": [
    "attributes = [col for col in num_df.columns if col != 'IsBadBuy']\n",
    "# attributes = df.drop(['class'], axis=1).values\n",
    "\n",
    "X = num_df[attributes].values\n",
    "y = num_df['IsBadBuy']\n",
    "\n",
    "X_train, X_test, y_train, y_test = train_test_split(X, y, \n",
    "                                                    test_size=0.3, \n",
    "                                                    random_state=100, \n",
    "                                                    stratify=y)"
   ]
  },
  {
   "cell_type": "markdown",
   "metadata": {},
   "source": [
    "Decision Trees"
   ]
  },
  {
   "cell_type": "code",
   "execution_count": 68,
   "metadata": {},
   "outputs": [
    {
     "data": {
      "text/plain": [
       "DecisionTreeClassifier(class_weight=None, criterion='gini', max_depth=10,\n",
       "                       max_features=None, max_leaf_nodes=None,\n",
       "                       min_impurity_decrease=0.0, min_impurity_split=None,\n",
       "                       min_samples_leaf=1, min_samples_split=2,\n",
       "                       min_weight_fraction_leaf=0.0, presort=False,\n",
       "                       random_state=None, splitter='best')"
      ]
     },
     "execution_count": 68,
     "metadata": {},
     "output_type": "execute_result"
    }
   ],
   "source": [
    "clf = DecisionTreeClassifier(criterion='gini', max_depth=10, \n",
    "                             min_samples_split=2, \n",
    "                             min_samples_leaf=1)\n",
    "clf = clf.fit(X_train, y_train)\n",
    "clf"
   ]
  },
  {
   "cell_type": "code",
   "execution_count": 69,
   "metadata": {},
   "outputs": [
    {
     "name": "stdout",
     "output_type": "stream",
     "text": [
      "VehicleAge 0.22185890718265686\n",
      "VehOdo 0.1652272974456989\n",
      "VNZIP1 0.12172016733307481\n",
      "WarrantyCost 0.11012175094203841\n",
      "IsOnlineSale 0.002237705672546608\n",
      "MMR_factor_n 0.1755153000319507\n",
      "VehBCost_n 0.20331887139203378\n"
     ]
    }
   ],
   "source": [
    "for col, imp in zip(attributes, clf.feature_importances_):\n",
    "    print(col, imp)"
   ]
  },
  {
   "cell_type": "code",
   "execution_count": 70,
   "metadata": {},
   "outputs": [],
   "source": [
    "import pydotplus\n",
    "from sklearn import tree\n",
    "from IPython.display import Image"
   ]
  },
  {
   "cell_type": "code",
   "execution_count": 55,
   "metadata": {},
   "outputs": [],
   "source": [
    "#dot_data = tree.export_graphviz(clf, out_file=None,  feature_names=attributes, class_names=clf.classes_,  \n",
    "#                                filled=True, rounded=True,  special_characters=True)  \n",
    "#graph = pydotplus.graph_from_dot_data(dot_data)  \n",
    "#Image(graph.create_png())"
   ]
  },
  {
   "cell_type": "code",
   "execution_count": 71,
   "metadata": {},
   "outputs": [],
   "source": [
    "y_pred = clf.predict(X_train)"
   ]
  },
  {
   "cell_type": "code",
   "execution_count": 72,
   "metadata": {},
   "outputs": [
    {
     "name": "stdout",
     "output_type": "stream",
     "text": [
      "Accuracy 0.8867384389527772\n",
      "F1-score [0.93906725 0.19788598]\n"
     ]
    }
   ],
   "source": [
    "print('Accuracy %s' % accuracy_score(y_train, y_pred))\n",
    "print('F1-score %s' % f1_score(y_train, y_pred, average=None))"
   ]
  },
  {
   "cell_type": "code",
   "execution_count": 73,
   "metadata": {},
   "outputs": [
    {
     "name": "stdout",
     "output_type": "stream",
     "text": [
      "              precision    recall  f1-score   support\n",
      "\n",
      "           0       0.89      1.00      0.94     35824\n",
      "           1       0.79      0.11      0.20      5046\n",
      "\n",
      "    accuracy                           0.89     40870\n",
      "   macro avg       0.84      0.55      0.57     40870\n",
      "weighted avg       0.88      0.89      0.85     40870\n",
      "\n"
     ]
    }
   ],
   "source": [
    "print(classification_report(y_train, y_pred))"
   ]
  },
  {
   "cell_type": "code",
   "execution_count": 74,
   "metadata": {},
   "outputs": [
    {
     "data": {
      "text/plain": [
       "array([[35670,   154],\n",
       "       [ 4475,   571]], dtype=int64)"
      ]
     },
     "execution_count": 74,
     "metadata": {},
     "output_type": "execute_result"
    }
   ],
   "source": [
    "confusion_matrix(y_train, y_pred)"
   ]
  },
  {
   "cell_type": "code",
   "execution_count": 75,
   "metadata": {},
   "outputs": [],
   "source": [
    "y_pred = clf.predict(X_test)"
   ]
  },
  {
   "cell_type": "code",
   "execution_count": 76,
   "metadata": {},
   "outputs": [
    {
     "name": "stdout",
     "output_type": "stream",
     "text": [
      "Accuracy 0.8686914820735328\n",
      "F1-score [0.9293525  0.07108239]\n",
      "              precision    recall  f1-score   support\n",
      "\n",
      "           0       0.88      0.99      0.93     15354\n",
      "           1       0.28      0.04      0.07      2162\n",
      "\n",
      "    accuracy                           0.87     17516\n",
      "   macro avg       0.58      0.51      0.50     17516\n",
      "weighted avg       0.81      0.87      0.82     17516\n",
      "\n"
     ]
    },
    {
     "data": {
      "text/plain": [
       "array([[15128,   226],\n",
       "       [ 2074,    88]], dtype=int64)"
      ]
     },
     "execution_count": 76,
     "metadata": {},
     "output_type": "execute_result"
    }
   ],
   "source": [
    "print('Accuracy %s' % accuracy_score(y_test, y_pred))\n",
    "print('F1-score %s' % f1_score(y_test, y_pred, average=None))\n",
    "print(classification_report(y_test, y_pred))\n",
    "conf_matrix = confusion_matrix(y_test, y_pred)\n",
    "conf_matrix"
   ]
  },
  {
   "cell_type": "code",
   "execution_count": 77,
   "metadata": {},
   "outputs": [
    {
     "data": {
      "text/plain": [
       "<matplotlib.axes._subplots.AxesSubplot at 0x2578f80dcc0>"
      ]
     },
     "execution_count": 77,
     "metadata": {},
     "output_type": "execute_result"
    },
    {
     "data": {
      "image/png": "[encoded data removed]",
      "text/plain": [
       "<Figure size 432x288 with 2 Axes>"
      ]
     },
     "metadata": {
      "needs_background": "light"
     },
     "output_type": "display_data"
    }
   ],
   "source": [
    "import seaborn as sns\n",
    "sns.heatmap(conf_matrix)"
   ]
  },
  {
   "cell_type": "markdown",
   "metadata": {},
   "source": [
    "###### Cross Valid"
   ]
  },
  {
   "cell_type": "code",
   "execution_count": 78,
   "metadata": {},
   "outputs": [],
   "source": [
    "from sklearn.model_selection import cross_val_score"
   ]
  },
  {
   "cell_type": "code",
   "execution_count": 79,
   "metadata": {},
   "outputs": [
    {
     "name": "stdout",
     "output_type": "stream",
     "text": [
      "Accuracy: 0.8705 (+/- 0.00)\n",
      "F1-score: 0.4914 (+/- 0.01)\n"
     ]
    }
   ],
   "source": [
    "scores = cross_val_score(clf, X, y, cv=10)\n",
    "print('Accuracy: %0.4f (+/- %0.2f)' % (scores.mean(), scores.std() * 2))\n",
    "\n",
    "scores = cross_val_score(clf, X, y, cv=10, scoring='f1_macro')\n",
    "print('F1-score: %0.4f (+/- %0.2f)' % (scores.mean(), scores.std() * 2))"
   ]
  },
  {
   "cell_type": "code",
   "execution_count": 80,
   "metadata": {},
   "outputs": [
    {
     "name": "stdout",
     "output_type": "stream",
     "text": [
      "Accuracy: 0.8705 (+/- 0.01)\n",
      "F1-score: 0.4923 (+/- 0.04)\n"
     ]
    }
   ],
   "source": [
    "scores = cross_val_score(clf, X, y, cv=100)\n",
    "print('Accuracy: %0.4f (+/- %0.2f)' % (scores.mean(), scores.std() * 2))\n",
    "\n",
    "scores = cross_val_score(clf, X, y, cv=100, scoring='f1_macro')\n",
    "print('F1-score: %0.4f (+/- %0.2f)' % (scores.mean(), scores.std() * 2))"
   ]
  }
 ],
 "metadata": {
  "kernelspec": {
   "display_name": "Python 3",
   "language": "python",
   "name": "python3"
  },
  "language_info": {
   "codemirror_mode": {
    "name": "ipython",
    "version": 3
   },
   "file_extension": ".py",
   "mimetype": "text/x-python",
   "name": "python",
   "nbconvert_exporter": "python",
   "pygments_lexer": "ipython3",
   "version": "3.7.3"
  }
 },
 "nbformat": 4,
 "nbformat_minor": 2
}
